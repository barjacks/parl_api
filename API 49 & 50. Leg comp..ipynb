{
 "cells": [
  {
   "cell_type": "code",
   "execution_count": 1,
   "metadata": {
    "collapsed": true
   },
   "outputs": [],
   "source": [
    "import pandas as pd"
   ]
  },
  {
   "cell_type": "markdown",
   "metadata": {},
   "source": [
    "# Analysing politician's votes\n",
    "\n",
    "Pulling in and prepping the data\n",
    "\n",
    "1. Politicians, who voted most (least) with the majority, 49. and 50. Leg.\n",
    "2. Differences between the parties, 49. and 50. Leg\n",
    "3. Apply both questions above to the Schlussabstimmungen\n",
    "    \n",
    "    3.1 Leg 50.\n",
    "    3.2 Leg 49.\n",
    "    3.3 Party averages\n",
    "    \n",
    "4. Which politicians didn't vote with the majority of the party? (Only 50. Leg.)\n",
    "5. And which were always inline? (Only 50. Leg.)"
   ]
  },
  {
   "cell_type": "markdown",
   "metadata": {},
   "source": [
    "### Pulling in and prepping the data"
   ]
  },
  {
   "cell_type": "code",
   "execution_count": 18,
   "metadata": {
    "collapsed": true
   },
   "outputs": [],
   "source": [
    "#Importing API data, first year votes of 50. and 49. Leg.\n",
    "df_50 = pd.read_csv('data_api/df_50_Leg_erstes_jahr.csv')\n",
    "df_49 = pd.read_csv('data_api/df_49_Leg_erstes_jahr.csv')"
   ]
  },
  {
   "cell_type": "code",
   "execution_count": 19,
   "metadata": {
    "collapsed": true
   },
   "outputs": [],
   "source": [
    "#Importing politician data\n",
    "df_50_NR = pd.read_csv('data_api/NR_50_leg.csv')\n",
    "df_49_NR = pd.read_csv('data_api/NR_49_leg.csv')"
   ]
  },
  {
   "cell_type": "code",
   "execution_count": 20,
   "metadata": {
    "collapsed": true
   },
   "outputs": [],
   "source": [
    "#Deleting duplicates from the NR files list\n",
    "df_50_NR = df_50_NR.drop_duplicates()\n",
    "df_49_NR = df_49_NR.drop_duplicates()"
   ]
  },
  {
   "cell_type": "code",
   "execution_count": 24,
   "metadata": {
    "collapsed": false
   },
   "outputs": [],
   "source": [
    "#merging\n",
    "df_50_m = df_50.merge(df_50_NR, left_on='id', right_on='CouncillorId')\n",
    "df_49_m = df_49.merge(df_49_NR, left_on='id', right_on='CouncillorId')"
   ]
  },
  {
   "cell_type": "markdown",
   "metadata": {},
   "source": [
    "### 1. Politicians, who vote most (least) with the majority, 49. and 50. Leg."
   ]
  },
  {
   "cell_type": "markdown",
   "metadata": {},
   "source": [
    "### 1.1 50. Legislatur"
   ]
  },
  {
   "cell_type": "code",
   "execution_count": 55,
   "metadata": {
    "collapsed": true
   },
   "outputs": [],
   "source": [
    "#Creating list of NR ids\n",
    "id_list = list(set(list(df_50_m['id'])))"
   ]
  },
  {
   "cell_type": "code",
   "execution_count": 56,
   "metadata": {
    "collapsed": false
   },
   "outputs": [],
   "source": [
    "#Iterating through that list\n",
    "leg_50_NRmaj = []\n",
    "\n",
    "for item in id_list:\n",
    "    \n",
    "    #Start the count afresh every time we start with new id\n",
    "    count = 0\n",
    "    \n",
    "    #creating lists in these mini dfs\n",
    "    majority_dec_list = list(df_50_m[df_50_m['id'] == item]['majority'])\n",
    "    NR_dec_lict = list(df_50_m[df_50_m['id'] == item]['entscheid'])\n",
    "    total_votes = len(list(df_50_m[df_50_m['id'] == item]['majority']))\n",
    "    \n",
    "    #Iterating through all of these lists together\n",
    "    for maj, dec in zip(majority_dec_list, NR_dec_lict):\n",
    "        if maj == dec:\n",
    "            count += 1\n",
    "    \n",
    "    NR_dict = {'id': item,\n",
    "               'dec with majority': count,\n",
    "               'Per. w/maj': round(count / total_votes * 100, 1)}\n",
    "    \n",
    "    leg_50_NRmaj.append(NR_dict)"
   ]
  },
  {
   "cell_type": "code",
   "execution_count": 59,
   "metadata": {
    "collapsed": false
   },
   "outputs": [],
   "source": [
    "df_leg50_maj = pd.DataFrame(leg_50_NRmaj)"
   ]
  },
  {
   "cell_type": "code",
   "execution_count": 61,
   "metadata": {
    "collapsed": true
   },
   "outputs": [],
   "source": [
    "df_leg50_maj = df_leg50_maj.merge(df_50_NR, left_on='id', right_on='CouncillorId')"
   ]
  },
  {
   "cell_type": "code",
   "execution_count": null,
   "metadata": {
    "collapsed": true
   },
   "outputs": [],
   "source": [
    "#Deleting Markwalder (president), Merlini (viele Abwesenheiten), Parmelin (Bundesrat)\n",
    "df_leg50_maj = df_leg50_maj.reindex(df_leg50_maj.index.drop(42))\n",
    "df_leg50_maj = df_leg50_maj.reindex(df_leg50_maj.index.drop(176))\n",
    "df_leg50_maj = df_leg50_maj.reindex(df_leg50_maj.index.drop(46))"
   ]
  },
  {
   "cell_type": "code",
   "execution_count": 74,
   "metadata": {
    "collapsed": true
   },
   "outputs": [],
   "source": [
    "df_leg50_final = df_leg50_maj[['CouncillorName', 'Fraktion', 'Kanton', 'Per. w/maj', 'dec with majority']].copy()"
   ]
  },
  {
   "cell_type": "code",
   "execution_count": 76,
   "metadata": {
    "collapsed": false
   },
   "outputs": [
    {
     "data": {
      "text/html": [
       "<div>\n",
       "<table border=\"1\" class=\"dataframe\">\n",
       "  <thead>\n",
       "    <tr style=\"text-align: right;\">\n",
       "      <th></th>\n",
       "      <th>CouncillorName</th>\n",
       "      <th>Fraktion</th>\n",
       "      <th>Kanton</th>\n",
       "      <th>Per. w/maj</th>\n",
       "      <th>dec with majority</th>\n",
       "    </tr>\n",
       "  </thead>\n",
       "  <tbody>\n",
       "    <tr>\n",
       "      <th>64</th>\n",
       "      <td>Steiert Jean-François</td>\n",
       "      <td>S</td>\n",
       "      <td>FR</td>\n",
       "      <td>42.1</td>\n",
       "      <td>476</td>\n",
       "    </tr>\n",
       "    <tr>\n",
       "      <th>181</th>\n",
       "      <td>Brélaz Daniel</td>\n",
       "      <td>G</td>\n",
       "      <td>VD</td>\n",
       "      <td>42.4</td>\n",
       "      <td>480</td>\n",
       "    </tr>\n",
       "    <tr>\n",
       "      <th>109</th>\n",
       "      <td>Badran Jacqueline</td>\n",
       "      <td>S</td>\n",
       "      <td>ZH</td>\n",
       "      <td>43.0</td>\n",
       "      <td>486</td>\n",
       "    </tr>\n",
       "    <tr>\n",
       "      <th>121</th>\n",
       "      <td>Fridez Pierre-Alain</td>\n",
       "      <td>S</td>\n",
       "      <td>JU</td>\n",
       "      <td>44.4</td>\n",
       "      <td>502</td>\n",
       "    </tr>\n",
       "    <tr>\n",
       "      <th>37</th>\n",
       "      <td>Galladé Chantal</td>\n",
       "      <td>S</td>\n",
       "      <td>ZH</td>\n",
       "      <td>44.6</td>\n",
       "      <td>504</td>\n",
       "    </tr>\n",
       "  </tbody>\n",
       "</table>\n",
       "</div>"
      ],
      "text/plain": [
       "            CouncillorName Fraktion Kanton  Per. w/maj  dec with majority\n",
       "64   Steiert Jean-François        S     FR        42.1                476\n",
       "181          Brélaz Daniel        G     VD        42.4                480\n",
       "109      Badran Jacqueline        S     ZH        43.0                486\n",
       "121    Fridez Pierre-Alain        S     JU        44.4                502\n",
       "37         Galladé Chantal        S     ZH        44.6                504"
      ]
     },
     "execution_count": 76,
     "metadata": {},
     "output_type": "execute_result"
    }
   ],
   "source": [
    "df_leg50_final.sort_values(by='Per. w/maj', ascending=True).head(5)"
   ]
  },
  {
   "cell_type": "code",
   "execution_count": 77,
   "metadata": {
    "collapsed": false
   },
   "outputs": [
    {
     "data": {
      "text/html": [
       "<div>\n",
       "<table border=\"1\" class=\"dataframe\">\n",
       "  <thead>\n",
       "    <tr style=\"text-align: right;\">\n",
       "      <th></th>\n",
       "      <th>CouncillorName</th>\n",
       "      <th>Fraktion</th>\n",
       "      <th>Kanton</th>\n",
       "      <th>Per. w/maj</th>\n",
       "      <th>dec with majority</th>\n",
       "    </tr>\n",
       "  </thead>\n",
       "  <tbody>\n",
       "    <tr>\n",
       "      <th>76</th>\n",
       "      <td>Hiltpold Hugues</td>\n",
       "      <td>RL</td>\n",
       "      <td>GE</td>\n",
       "      <td>87.3</td>\n",
       "      <td>987</td>\n",
       "    </tr>\n",
       "    <tr>\n",
       "      <th>66</th>\n",
       "      <td>Bourgeois Jacques</td>\n",
       "      <td>RL</td>\n",
       "      <td>FR</td>\n",
       "      <td>86.5</td>\n",
       "      <td>978</td>\n",
       "    </tr>\n",
       "    <tr>\n",
       "      <th>62</th>\n",
       "      <td>Cassis Ignazio</td>\n",
       "      <td>RL</td>\n",
       "      <td>TI</td>\n",
       "      <td>86.1</td>\n",
       "      <td>974</td>\n",
       "    </tr>\n",
       "    <tr>\n",
       "      <th>135</th>\n",
       "      <td>Wehrli Laurent</td>\n",
       "      <td>RL</td>\n",
       "      <td>VD</td>\n",
       "      <td>85.1</td>\n",
       "      <td>962</td>\n",
       "    </tr>\n",
       "    <tr>\n",
       "      <th>162</th>\n",
       "      <td>Gössi Petra</td>\n",
       "      <td>RL</td>\n",
       "      <td>SZ</td>\n",
       "      <td>84.3</td>\n",
       "      <td>953</td>\n",
       "    </tr>\n",
       "  </tbody>\n",
       "</table>\n",
       "</div>"
      ],
      "text/plain": [
       "        CouncillorName Fraktion Kanton  Per. w/maj  dec with majority\n",
       "76     Hiltpold Hugues       RL     GE        87.3                987\n",
       "66   Bourgeois Jacques       RL     FR        86.5                978\n",
       "62      Cassis Ignazio       RL     TI        86.1                974\n",
       "135     Wehrli Laurent       RL     VD        85.1                962\n",
       "162        Gössi Petra       RL     SZ        84.3                953"
      ]
     },
     "execution_count": 77,
     "metadata": {},
     "output_type": "execute_result"
    }
   ],
   "source": [
    "df_leg50_final.sort_values(by='Per. w/maj', ascending=False).head(5)"
   ]
  },
  {
   "cell_type": "code",
   "execution_count": 301,
   "metadata": {
    "collapsed": true
   },
   "outputs": [],
   "source": [
    "df_leg50_final.to_csv('50_leg_alle_abstimmungen.csv')"
   ]
  },
  {
   "cell_type": "markdown",
   "metadata": {},
   "source": [
    "### 1.1 49. Legislatur"
   ]
  },
  {
   "cell_type": "code",
   "execution_count": 79,
   "metadata": {
    "collapsed": true
   },
   "outputs": [],
   "source": [
    "#Creating list of NR ids\n",
    "id_list = list(set(list(df_49_m['id'])))"
   ]
  },
  {
   "cell_type": "code",
   "execution_count": 80,
   "metadata": {
    "collapsed": true
   },
   "outputs": [],
   "source": [
    "#Iterating through that list\n",
    "leg_49_NRmaj = []\n",
    "\n",
    "for item in id_list:\n",
    "    \n",
    "    #Start the count afresh every time we start with new id\n",
    "    count = 0\n",
    "    \n",
    "    #creating lists in these mini dfs\n",
    "    majority_dec_list = list(df_49_m[df_49_m['id'] == item]['majority'])\n",
    "    NR_dec_lict = list(df_49_m[df_49_m['id'] == item]['entscheid'])\n",
    "    total_votes = len(list(df_49_m[df_49_m['id'] == item]['majority']))\n",
    "    \n",
    "    #Iterating through all of these lists together\n",
    "    for maj, dec in zip(majority_dec_list, NR_dec_lict):\n",
    "        if maj == dec:\n",
    "            count += 1\n",
    "    \n",
    "    NR_dict = {'id': item,\n",
    "               'dec with majority': count,\n",
    "               'Per. w/maj': round(count / total_votes * 100, 1)}\n",
    "    \n",
    "    leg_49_NRmaj.append(NR_dict)"
   ]
  },
  {
   "cell_type": "code",
   "execution_count": 81,
   "metadata": {
    "collapsed": true
   },
   "outputs": [],
   "source": [
    "df_leg49_maj = pd.DataFrame(leg_49_NRmaj)"
   ]
  },
  {
   "cell_type": "code",
   "execution_count": 88,
   "metadata": {
    "collapsed": true
   },
   "outputs": [],
   "source": [
    "df_leg49_maj = df_leg49_maj.merge(df_49_NR, left_on='id', right_on='CouncillorId')"
   ]
  },
  {
   "cell_type": "code",
   "execution_count": 85,
   "metadata": {
    "collapsed": true
   },
   "outputs": [],
   "source": [
    "#Deleting Walter (president), Rickli (burnout)\n",
    "df_leg49_maj = df_leg49_maj.reindex(df_leg49_maj.index.drop(134))\n",
    "df_leg49_maj = df_leg49_maj.reindex(df_leg49_maj.index.drop(54))"
   ]
  },
  {
   "cell_type": "code",
   "execution_count": 90,
   "metadata": {
    "collapsed": false
   },
   "outputs": [],
   "source": [
    "df_leg49_final = df_leg49_maj[['CouncillorName', 'Fraktion', 'Kanton', 'Per. w/maj', 'dec with majority']].copy()"
   ]
  },
  {
   "cell_type": "code",
   "execution_count": 91,
   "metadata": {
    "collapsed": false
   },
   "outputs": [
    {
     "data": {
      "text/html": [
       "<div>\n",
       "<table border=\"1\" class=\"dataframe\">\n",
       "  <thead>\n",
       "    <tr style=\"text-align: right;\">\n",
       "      <th></th>\n",
       "      <th>CouncillorName</th>\n",
       "      <th>Fraktion</th>\n",
       "      <th>Kanton</th>\n",
       "      <th>Per. w/maj</th>\n",
       "      <th>dec with majority</th>\n",
       "    </tr>\n",
       "  </thead>\n",
       "  <tbody>\n",
       "    <tr>\n",
       "      <th>55</th>\n",
       "      <td>Thorens Goumaz Adèle</td>\n",
       "      <td>G</td>\n",
       "      <td>VD</td>\n",
       "      <td>40.7</td>\n",
       "      <td>386</td>\n",
       "    </tr>\n",
       "    <tr>\n",
       "      <th>68</th>\n",
       "      <td>Frehner Sebastian</td>\n",
       "      <td>V</td>\n",
       "      <td>BS</td>\n",
       "      <td>41.9</td>\n",
       "      <td>398</td>\n",
       "    </tr>\n",
       "    <tr>\n",
       "      <th>106</th>\n",
       "      <td>Tschäppät Alexander</td>\n",
       "      <td>S</td>\n",
       "      <td>BE</td>\n",
       "      <td>42.4</td>\n",
       "      <td>402</td>\n",
       "    </tr>\n",
       "    <tr>\n",
       "      <th>70</th>\n",
       "      <td>Quadri Lorenzo</td>\n",
       "      <td>V</td>\n",
       "      <td>TI</td>\n",
       "      <td>44.2</td>\n",
       "      <td>419</td>\n",
       "    </tr>\n",
       "    <tr>\n",
       "      <th>45</th>\n",
       "      <td>Heer Alfred</td>\n",
       "      <td>V</td>\n",
       "      <td>ZH</td>\n",
       "      <td>45.0</td>\n",
       "      <td>427</td>\n",
       "    </tr>\n",
       "  </tbody>\n",
       "</table>\n",
       "</div>"
      ],
      "text/plain": [
       "           CouncillorName Fraktion Kanton  Per. w/maj  dec with majority\n",
       "55   Thorens Goumaz Adèle        G     VD        40.7                386\n",
       "68      Frehner Sebastian        V     BS        41.9                398\n",
       "106   Tschäppät Alexander        S     BE        42.4                402\n",
       "70         Quadri Lorenzo        V     TI        44.2                419\n",
       "45            Heer Alfred        V     ZH        45.0                427"
      ]
     },
     "execution_count": 91,
     "metadata": {},
     "output_type": "execute_result"
    }
   ],
   "source": [
    "df_leg49_final.sort_values(by='Per. w/maj', ascending=True).head(5)"
   ]
  },
  {
   "cell_type": "code",
   "execution_count": 92,
   "metadata": {
    "collapsed": false
   },
   "outputs": [
    {
     "data": {
      "text/html": [
       "<div>\n",
       "<table border=\"1\" class=\"dataframe\">\n",
       "  <thead>\n",
       "    <tr style=\"text-align: right;\">\n",
       "      <th></th>\n",
       "      <th>CouncillorName</th>\n",
       "      <th>Fraktion</th>\n",
       "      <th>Kanton</th>\n",
       "      <th>Per. w/maj</th>\n",
       "      <th>dec with majority</th>\n",
       "    </tr>\n",
       "  </thead>\n",
       "  <tbody>\n",
       "    <tr>\n",
       "      <th>67</th>\n",
       "      <td>Schneider-Schneiter Elisabeth</td>\n",
       "      <td>C</td>\n",
       "      <td>BL</td>\n",
       "      <td>84.9</td>\n",
       "      <td>806</td>\n",
       "    </tr>\n",
       "    <tr>\n",
       "      <th>95</th>\n",
       "      <td>Vogler Karl</td>\n",
       "      <td>C</td>\n",
       "      <td>OW</td>\n",
       "      <td>83.5</td>\n",
       "      <td>792</td>\n",
       "    </tr>\n",
       "    <tr>\n",
       "      <th>90</th>\n",
       "      <td>Quadranti Rosmarie</td>\n",
       "      <td>BD</td>\n",
       "      <td>ZH</td>\n",
       "      <td>81.8</td>\n",
       "      <td>776</td>\n",
       "    </tr>\n",
       "    <tr>\n",
       "      <th>46</th>\n",
       "      <td>Hiltpold Hugues</td>\n",
       "      <td>RL</td>\n",
       "      <td>GE</td>\n",
       "      <td>81.5</td>\n",
       "      <td>773</td>\n",
       "    </tr>\n",
       "    <tr>\n",
       "      <th>28</th>\n",
       "      <td>Glanzmann-Hunkeler Ida</td>\n",
       "      <td>C</td>\n",
       "      <td>LU</td>\n",
       "      <td>80.8</td>\n",
       "      <td>767</td>\n",
       "    </tr>\n",
       "  </tbody>\n",
       "</table>\n",
       "</div>"
      ],
      "text/plain": [
       "                   CouncillorName Fraktion Kanton  Per. w/maj  \\\n",
       "67  Schneider-Schneiter Elisabeth        C     BL        84.9   \n",
       "95                    Vogler Karl        C     OW        83.5   \n",
       "90             Quadranti Rosmarie       BD     ZH        81.8   \n",
       "46                Hiltpold Hugues       RL     GE        81.5   \n",
       "28         Glanzmann-Hunkeler Ida        C     LU        80.8   \n",
       "\n",
       "    dec with majority  \n",
       "67                806  \n",
       "95                792  \n",
       "90                776  \n",
       "46                773  \n",
       "28                767  "
      ]
     },
     "execution_count": 92,
     "metadata": {},
     "output_type": "execute_result"
    }
   ],
   "source": [
    "df_leg49_final.sort_values(by='Per. w/maj', ascending=False).head(5)"
   ]
  },
  {
   "cell_type": "code",
   "execution_count": 302,
   "metadata": {
    "collapsed": true
   },
   "outputs": [],
   "source": [
    "df_leg49_final.to_csv('49_leg_alle_abstimmungen.csv')"
   ]
  },
  {
   "cell_type": "markdown",
   "metadata": {},
   "source": [
    "### 2. Differences between the parties, 49. and 50. Leg"
   ]
  },
  {
   "cell_type": "code",
   "execution_count": 106,
   "metadata": {
    "collapsed": false
   },
   "outputs": [],
   "source": [
    "fraktions_list = list(set(list(df_leg50_final['Fraktion'])))"
   ]
  },
  {
   "cell_type": "code",
   "execution_count": 112,
   "metadata": {
    "collapsed": true
   },
   "outputs": [],
   "source": [
    "#Creating new df for party average\n",
    "\n",
    "party_avg = []\n",
    "for item in fraktions_list:\n",
    "    avg = round(df_leg50_final[df_leg50_final['Fraktion'] == item]['Per. w/maj'].mean())\n",
    "    party_dict = {'Fraktion': item,\n",
    "                  'Durchschnitt': avg}\n",
    "    party_avg.append(party_dict)"
   ]
  },
  {
   "cell_type": "code",
   "execution_count": 115,
   "metadata": {
    "collapsed": false
   },
   "outputs": [
    {
     "data": {
      "text/html": [
       "<div>\n",
       "<table border=\"1\" class=\"dataframe\">\n",
       "  <thead>\n",
       "    <tr style=\"text-align: right;\">\n",
       "      <th></th>\n",
       "      <th>Durchschnitt</th>\n",
       "      <th>Fraktion</th>\n",
       "    </tr>\n",
       "  </thead>\n",
       "  <tbody>\n",
       "    <tr>\n",
       "      <th>1</th>\n",
       "      <td>79.0</td>\n",
       "      <td>RL</td>\n",
       "    </tr>\n",
       "    <tr>\n",
       "      <th>0</th>\n",
       "      <td>76.0</td>\n",
       "      <td>C</td>\n",
       "    </tr>\n",
       "    <tr>\n",
       "      <th>4</th>\n",
       "      <td>74.0</td>\n",
       "      <td>BD</td>\n",
       "    </tr>\n",
       "    <tr>\n",
       "      <th>3</th>\n",
       "      <td>67.0</td>\n",
       "      <td>GL</td>\n",
       "    </tr>\n",
       "    <tr>\n",
       "      <th>2</th>\n",
       "      <td>61.0</td>\n",
       "      <td>V</td>\n",
       "    </tr>\n",
       "    <tr>\n",
       "      <th>5</th>\n",
       "      <td>50.0</td>\n",
       "      <td>G</td>\n",
       "    </tr>\n",
       "    <tr>\n",
       "      <th>6</th>\n",
       "      <td>48.0</td>\n",
       "      <td>S</td>\n",
       "    </tr>\n",
       "  </tbody>\n",
       "</table>\n",
       "</div>"
      ],
      "text/plain": [
       "   Durchschnitt Fraktion\n",
       "1          79.0       RL\n",
       "0          76.0        C\n",
       "4          74.0       BD\n",
       "3          67.0       GL\n",
       "2          61.0        V\n",
       "5          50.0        G\n",
       "6          48.0        S"
      ]
     },
     "execution_count": 115,
     "metadata": {},
     "output_type": "execute_result"
    }
   ],
   "source": [
    "pd.DataFrame(party_avg).sort_values(by='Durchschnitt', ascending=False)"
   ]
  },
  {
   "cell_type": "code",
   "execution_count": 119,
   "metadata": {
    "collapsed": true
   },
   "outputs": [],
   "source": [
    "fraktions_list = list(set(list(df_leg49_final['Fraktion'])))"
   ]
  },
  {
   "cell_type": "code",
   "execution_count": 120,
   "metadata": {
    "collapsed": true
   },
   "outputs": [],
   "source": [
    "#Creating new df for party average\n",
    "\n",
    "party_avg = []\n",
    "for item in fraktions_list:\n",
    "    avg = round(df_leg49_final[df_leg49_final['Fraktion'] == item]['Per. w/maj'].mean())\n",
    "    party_dict = {'Fraktion': item,\n",
    "                  'Durchschnitt': avg}\n",
    "    party_avg.append(party_dict)"
   ]
  },
  {
   "cell_type": "code",
   "execution_count": 121,
   "metadata": {
    "collapsed": false
   },
   "outputs": [
    {
     "data": {
      "text/html": [
       "<div>\n",
       "<table border=\"1\" class=\"dataframe\">\n",
       "  <thead>\n",
       "    <tr style=\"text-align: right;\">\n",
       "      <th></th>\n",
       "      <th>Durchschnitt</th>\n",
       "      <th>Fraktion</th>\n",
       "    </tr>\n",
       "  </thead>\n",
       "  <tbody>\n",
       "    <tr>\n",
       "      <th>0</th>\n",
       "      <td>74.0</td>\n",
       "      <td>C</td>\n",
       "    </tr>\n",
       "    <tr>\n",
       "      <th>1</th>\n",
       "      <td>72.0</td>\n",
       "      <td>RL</td>\n",
       "    </tr>\n",
       "    <tr>\n",
       "      <th>3</th>\n",
       "      <td>67.0</td>\n",
       "      <td>GL</td>\n",
       "    </tr>\n",
       "    <tr>\n",
       "      <th>4</th>\n",
       "      <td>67.0</td>\n",
       "      <td>BD</td>\n",
       "    </tr>\n",
       "    <tr>\n",
       "      <th>2</th>\n",
       "      <td>57.0</td>\n",
       "      <td>V</td>\n",
       "    </tr>\n",
       "    <tr>\n",
       "      <th>6</th>\n",
       "      <td>53.0</td>\n",
       "      <td>S</td>\n",
       "    </tr>\n",
       "    <tr>\n",
       "      <th>5</th>\n",
       "      <td>50.0</td>\n",
       "      <td>G</td>\n",
       "    </tr>\n",
       "  </tbody>\n",
       "</table>\n",
       "</div>"
      ],
      "text/plain": [
       "   Durchschnitt Fraktion\n",
       "0          74.0        C\n",
       "1          72.0       RL\n",
       "3          67.0       GL\n",
       "4          67.0       BD\n",
       "2          57.0        V\n",
       "6          53.0        S\n",
       "5          50.0        G"
      ]
     },
     "execution_count": 121,
     "metadata": {},
     "output_type": "execute_result"
    }
   ],
   "source": [
    "pd.DataFrame(party_avg).sort_values(by='Durchschnitt', ascending=False)"
   ]
  },
  {
   "cell_type": "markdown",
   "metadata": {},
   "source": [
    "### 3. Only looking at the Schlussabstimmungen / Gesamtabstimmungen"
   ]
  },
  {
   "cell_type": "markdown",
   "metadata": {},
   "source": [
    "#### 3.1 For the parties Leg. 50"
   ]
  },
  {
   "cell_type": "code",
   "execution_count": 129,
   "metadata": {
    "collapsed": false
   },
   "outputs": [
    {
     "data": {
      "text/plain": [
       "Gesamtabstimmung           25880\n",
       "Eintreten                   6370\n",
       "Rückweisungsantrag          2587\n",
       "Art. 2                      1991\n",
       "Art. 1 - Ausgabenbremse     1990\n",
       "Name: div_text, dtype: int64"
      ]
     },
     "execution_count": 129,
     "metadata": {},
     "output_type": "execute_result"
    }
   ],
   "source": [
    "df_50_m['div_text'].value_counts().head(5)"
   ]
  },
  {
   "cell_type": "code",
   "execution_count": 128,
   "metadata": {
    "collapsed": false
   },
   "outputs": [],
   "source": [
    "df_50_gesamtabstimmung = df_50_m[df_50_m['div_text'] == 'Gesamtabstimmung']"
   ]
  },
  {
   "cell_type": "code",
   "execution_count": 310,
   "metadata": {
    "collapsed": false
   },
   "outputs": [],
   "source": [
    "df_50_gesamtabstimmung.to_csv('kontrolle_50_leg.csv')"
   ]
  },
  {
   "cell_type": "code",
   "execution_count": 130,
   "metadata": {
    "collapsed": true
   },
   "outputs": [],
   "source": [
    "#Creating list of NR ids\n",
    "id_list = list(set(list(df_50_gesamtabstimmung['id'])))"
   ]
  },
  {
   "cell_type": "code",
   "execution_count": 131,
   "metadata": {
    "collapsed": true
   },
   "outputs": [],
   "source": [
    "#Iterating through that list\n",
    "leg_50_NRgesamtabstimmung = []\n",
    "\n",
    "for item in id_list:\n",
    "    \n",
    "    #Start the count afresh every time we start with new id\n",
    "    count = 0\n",
    "    \n",
    "    #creating lists in these mini dfs\n",
    "    majority_dec_list = list(df_50_gesamtabstimmung[df_50_gesamtabstimmung['id'] == item]['majority'])\n",
    "    NR_dec_lict = list(df_50_gesamtabstimmung[df_50_gesamtabstimmung['id'] == item]['entscheid'])\n",
    "    total_votes = len(list(df_50_gesamtabstimmung[df_50_gesamtabstimmung['id'] == item]['majority']))\n",
    "    \n",
    "    #Iterating through all of these lists together\n",
    "    for maj, dec in zip(majority_dec_list, NR_dec_lict):\n",
    "        if maj == dec:\n",
    "            count += 1\n",
    "    \n",
    "    NR_dict = {'id': item,\n",
    "               'dec with majority': count,\n",
    "               'Per. w/maj': round(count / total_votes * 100, 1)}\n",
    "    \n",
    "    leg_50_NRgesamtabstimmung.append(NR_dict)"
   ]
  },
  {
   "cell_type": "code",
   "execution_count": 307,
   "metadata": {
    "collapsed": true
   },
   "outputs": [],
   "source": [
    "leg_50_NRgesamtabstimmung = pd.DataFrame(leg_50_NRgesamtabstimmung)"
   ]
  },
  {
   "cell_type": "code",
   "execution_count": 308,
   "metadata": {
    "collapsed": false
   },
   "outputs": [
    {
     "ename": "KeyError",
     "evalue": "'id'",
     "output_type": "error",
     "traceback": [
      "\u001b[0;31m---------------------------------------------------------------------------\u001b[0m",
      "\u001b[0;31mKeyError\u001b[0m                                  Traceback (most recent call last)",
      "\u001b[0;32m/Users/barneyjs/.virtualenvs/master/lib/python3.5/site-packages/pandas/indexes/base.py\u001b[0m in \u001b[0;36mget_loc\u001b[0;34m(self, key, method, tolerance)\u001b[0m\n\u001b[1;32m   1944\u001b[0m             \u001b[0;32mtry\u001b[0m\u001b[0;34m:\u001b[0m\u001b[0;34m\u001b[0m\u001b[0m\n\u001b[0;32m-> 1945\u001b[0;31m                 \u001b[0;32mreturn\u001b[0m \u001b[0mself\u001b[0m\u001b[0;34m.\u001b[0m\u001b[0m_engine\u001b[0m\u001b[0;34m.\u001b[0m\u001b[0mget_loc\u001b[0m\u001b[0;34m(\u001b[0m\u001b[0mkey\u001b[0m\u001b[0;34m)\u001b[0m\u001b[0;34m\u001b[0m\u001b[0m\n\u001b[0m\u001b[1;32m   1946\u001b[0m             \u001b[0;32mexcept\u001b[0m \u001b[0mKeyError\u001b[0m\u001b[0;34m:\u001b[0m\u001b[0;34m\u001b[0m\u001b[0m\n",
      "\u001b[0;32mpandas/index.pyx\u001b[0m in \u001b[0;36mpandas.index.IndexEngine.get_loc (pandas/index.c:4154)\u001b[0;34m()\u001b[0m\n",
      "\u001b[0;32mpandas/index.pyx\u001b[0m in \u001b[0;36mpandas.index.IndexEngine.get_loc (pandas/index.c:4018)\u001b[0;34m()\u001b[0m\n",
      "\u001b[0;32mpandas/hashtable.pyx\u001b[0m in \u001b[0;36mpandas.hashtable.PyObjectHashTable.get_item (pandas/hashtable.c:12368)\u001b[0;34m()\u001b[0m\n",
      "\u001b[0;32mpandas/hashtable.pyx\u001b[0m in \u001b[0;36mpandas.hashtable.PyObjectHashTable.get_item (pandas/hashtable.c:12322)\u001b[0;34m()\u001b[0m\n",
      "\u001b[0;31mKeyError\u001b[0m: 'id'",
      "\nDuring handling of the above exception, another exception occurred:\n",
      "\u001b[0;31mKeyError\u001b[0m                                  Traceback (most recent call last)",
      "\u001b[0;32m<ipython-input-308-da30e4806250>\u001b[0m in \u001b[0;36m<module>\u001b[0;34m()\u001b[0m\n\u001b[0;32m----> 1\u001b[0;31m \u001b[0mleg_50_NRgesamtabstimmung\u001b[0m \u001b[0;34m=\u001b[0m \u001b[0mleg_50_NRgesamtabstimmung\u001b[0m\u001b[0;34m.\u001b[0m\u001b[0mmerge\u001b[0m\u001b[0;34m(\u001b[0m\u001b[0mdf_50_NR\u001b[0m\u001b[0;34m,\u001b[0m \u001b[0mleft_on\u001b[0m\u001b[0;34m=\u001b[0m\u001b[0;34m'id'\u001b[0m\u001b[0;34m,\u001b[0m \u001b[0mright_on\u001b[0m\u001b[0;34m=\u001b[0m\u001b[0;34m'CouncillorId'\u001b[0m\u001b[0;34m)\u001b[0m\u001b[0;34m\u001b[0m\u001b[0m\n\u001b[0m",
      "\u001b[0;32m/Users/barneyjs/.virtualenvs/master/lib/python3.5/site-packages/pandas/core/frame.py\u001b[0m in \u001b[0;36mmerge\u001b[0;34m(self, right, how, on, left_on, right_on, left_index, right_index, sort, suffixes, copy, indicator)\u001b[0m\n\u001b[1;32m   4435\u001b[0m                      \u001b[0mright_on\u001b[0m\u001b[0;34m=\u001b[0m\u001b[0mright_on\u001b[0m\u001b[0;34m,\u001b[0m \u001b[0mleft_index\u001b[0m\u001b[0;34m=\u001b[0m\u001b[0mleft_index\u001b[0m\u001b[0;34m,\u001b[0m\u001b[0;34m\u001b[0m\u001b[0m\n\u001b[1;32m   4436\u001b[0m                      \u001b[0mright_index\u001b[0m\u001b[0;34m=\u001b[0m\u001b[0mright_index\u001b[0m\u001b[0;34m,\u001b[0m \u001b[0msort\u001b[0m\u001b[0;34m=\u001b[0m\u001b[0msort\u001b[0m\u001b[0;34m,\u001b[0m \u001b[0msuffixes\u001b[0m\u001b[0;34m=\u001b[0m\u001b[0msuffixes\u001b[0m\u001b[0;34m,\u001b[0m\u001b[0;34m\u001b[0m\u001b[0m\n\u001b[0;32m-> 4437\u001b[0;31m                      copy=copy, indicator=indicator)\n\u001b[0m\u001b[1;32m   4438\u001b[0m \u001b[0;34m\u001b[0m\u001b[0m\n\u001b[1;32m   4439\u001b[0m     \u001b[0;32mdef\u001b[0m \u001b[0mround\u001b[0m\u001b[0;34m(\u001b[0m\u001b[0mself\u001b[0m\u001b[0;34m,\u001b[0m \u001b[0mdecimals\u001b[0m\u001b[0;34m=\u001b[0m\u001b[0;36m0\u001b[0m\u001b[0;34m,\u001b[0m \u001b[0;34m*\u001b[0m\u001b[0margs\u001b[0m\u001b[0;34m,\u001b[0m \u001b[0;34m**\u001b[0m\u001b[0mkwargs\u001b[0m\u001b[0;34m)\u001b[0m\u001b[0;34m:\u001b[0m\u001b[0;34m\u001b[0m\u001b[0m\n",
      "\u001b[0;32m/Users/barneyjs/.virtualenvs/master/lib/python3.5/site-packages/pandas/tools/merge.py\u001b[0m in \u001b[0;36mmerge\u001b[0;34m(left, right, how, on, left_on, right_on, left_index, right_index, sort, suffixes, copy, indicator)\u001b[0m\n\u001b[1;32m     36\u001b[0m                          \u001b[0mright_on\u001b[0m\u001b[0;34m=\u001b[0m\u001b[0mright_on\u001b[0m\u001b[0;34m,\u001b[0m \u001b[0mleft_index\u001b[0m\u001b[0;34m=\u001b[0m\u001b[0mleft_index\u001b[0m\u001b[0;34m,\u001b[0m\u001b[0;34m\u001b[0m\u001b[0m\n\u001b[1;32m     37\u001b[0m                          \u001b[0mright_index\u001b[0m\u001b[0;34m=\u001b[0m\u001b[0mright_index\u001b[0m\u001b[0;34m,\u001b[0m \u001b[0msort\u001b[0m\u001b[0;34m=\u001b[0m\u001b[0msort\u001b[0m\u001b[0;34m,\u001b[0m \u001b[0msuffixes\u001b[0m\u001b[0;34m=\u001b[0m\u001b[0msuffixes\u001b[0m\u001b[0;34m,\u001b[0m\u001b[0;34m\u001b[0m\u001b[0m\n\u001b[0;32m---> 38\u001b[0;31m                          copy=copy, indicator=indicator)\n\u001b[0m\u001b[1;32m     39\u001b[0m     \u001b[0;32mreturn\u001b[0m \u001b[0mop\u001b[0m\u001b[0;34m.\u001b[0m\u001b[0mget_result\u001b[0m\u001b[0;34m(\u001b[0m\u001b[0;34m)\u001b[0m\u001b[0;34m\u001b[0m\u001b[0m\n\u001b[1;32m     40\u001b[0m \u001b[0;32mif\u001b[0m \u001b[0m__debug__\u001b[0m\u001b[0;34m:\u001b[0m\u001b[0;34m\u001b[0m\u001b[0m\n",
      "\u001b[0;32m/Users/barneyjs/.virtualenvs/master/lib/python3.5/site-packages/pandas/tools/merge.py\u001b[0m in \u001b[0;36m__init__\u001b[0;34m(self, left, right, how, on, left_on, right_on, axis, left_index, right_index, sort, suffixes, copy, indicator)\u001b[0m\n\u001b[1;32m    208\u001b[0m         (self.left_join_keys,\n\u001b[1;32m    209\u001b[0m          \u001b[0mself\u001b[0m\u001b[0;34m.\u001b[0m\u001b[0mright_join_keys\u001b[0m\u001b[0;34m,\u001b[0m\u001b[0;34m\u001b[0m\u001b[0m\n\u001b[0;32m--> 210\u001b[0;31m          self.join_names) = self._get_merge_keys()\n\u001b[0m\u001b[1;32m    211\u001b[0m \u001b[0;34m\u001b[0m\u001b[0m\n\u001b[1;32m    212\u001b[0m     \u001b[0;32mdef\u001b[0m \u001b[0mget_result\u001b[0m\u001b[0;34m(\u001b[0m\u001b[0mself\u001b[0m\u001b[0;34m)\u001b[0m\u001b[0;34m:\u001b[0m\u001b[0;34m\u001b[0m\u001b[0m\n",
      "\u001b[0;32m/Users/barneyjs/.virtualenvs/master/lib/python3.5/site-packages/pandas/tools/merge.py\u001b[0m in \u001b[0;36m_get_merge_keys\u001b[0;34m(self)\u001b[0m\n\u001b[1;32m    441\u001b[0m                     \u001b[0;32melse\u001b[0m\u001b[0;34m:\u001b[0m\u001b[0;34m\u001b[0m\u001b[0m\n\u001b[1;32m    442\u001b[0m                         \u001b[0mright_keys\u001b[0m\u001b[0;34m.\u001b[0m\u001b[0mappend\u001b[0m\u001b[0;34m(\u001b[0m\u001b[0mrk\u001b[0m\u001b[0;34m)\u001b[0m\u001b[0;34m\u001b[0m\u001b[0m\n\u001b[0;32m--> 443\u001b[0;31m                     \u001b[0mleft_keys\u001b[0m\u001b[0;34m.\u001b[0m\u001b[0mappend\u001b[0m\u001b[0;34m(\u001b[0m\u001b[0mleft\u001b[0m\u001b[0;34m[\u001b[0m\u001b[0mlk\u001b[0m\u001b[0;34m]\u001b[0m\u001b[0;34m.\u001b[0m\u001b[0m_values\u001b[0m\u001b[0;34m)\u001b[0m\u001b[0;34m\u001b[0m\u001b[0m\n\u001b[0m\u001b[1;32m    444\u001b[0m                     \u001b[0mjoin_names\u001b[0m\u001b[0;34m.\u001b[0m\u001b[0mappend\u001b[0m\u001b[0;34m(\u001b[0m\u001b[0mlk\u001b[0m\u001b[0;34m)\u001b[0m\u001b[0;34m\u001b[0m\u001b[0m\n\u001b[1;32m    445\u001b[0m         \u001b[0;32melif\u001b[0m \u001b[0m_any\u001b[0m\u001b[0;34m(\u001b[0m\u001b[0mself\u001b[0m\u001b[0;34m.\u001b[0m\u001b[0mleft_on\u001b[0m\u001b[0;34m)\u001b[0m\u001b[0;34m:\u001b[0m\u001b[0;34m\u001b[0m\u001b[0m\n",
      "\u001b[0;32m/Users/barneyjs/.virtualenvs/master/lib/python3.5/site-packages/pandas/core/frame.py\u001b[0m in \u001b[0;36m__getitem__\u001b[0;34m(self, key)\u001b[0m\n\u001b[1;32m   1995\u001b[0m             \u001b[0;32mreturn\u001b[0m \u001b[0mself\u001b[0m\u001b[0;34m.\u001b[0m\u001b[0m_getitem_multilevel\u001b[0m\u001b[0;34m(\u001b[0m\u001b[0mkey\u001b[0m\u001b[0;34m)\u001b[0m\u001b[0;34m\u001b[0m\u001b[0m\n\u001b[1;32m   1996\u001b[0m         \u001b[0;32melse\u001b[0m\u001b[0;34m:\u001b[0m\u001b[0;34m\u001b[0m\u001b[0m\n\u001b[0;32m-> 1997\u001b[0;31m             \u001b[0;32mreturn\u001b[0m \u001b[0mself\u001b[0m\u001b[0;34m.\u001b[0m\u001b[0m_getitem_column\u001b[0m\u001b[0;34m(\u001b[0m\u001b[0mkey\u001b[0m\u001b[0;34m)\u001b[0m\u001b[0;34m\u001b[0m\u001b[0m\n\u001b[0m\u001b[1;32m   1998\u001b[0m \u001b[0;34m\u001b[0m\u001b[0m\n\u001b[1;32m   1999\u001b[0m     \u001b[0;32mdef\u001b[0m \u001b[0m_getitem_column\u001b[0m\u001b[0;34m(\u001b[0m\u001b[0mself\u001b[0m\u001b[0;34m,\u001b[0m \u001b[0mkey\u001b[0m\u001b[0;34m)\u001b[0m\u001b[0;34m:\u001b[0m\u001b[0;34m\u001b[0m\u001b[0m\n",
      "\u001b[0;32m/Users/barneyjs/.virtualenvs/master/lib/python3.5/site-packages/pandas/core/frame.py\u001b[0m in \u001b[0;36m_getitem_column\u001b[0;34m(self, key)\u001b[0m\n\u001b[1;32m   2002\u001b[0m         \u001b[0;31m# get column\u001b[0m\u001b[0;34m\u001b[0m\u001b[0;34m\u001b[0m\u001b[0m\n\u001b[1;32m   2003\u001b[0m         \u001b[0;32mif\u001b[0m \u001b[0mself\u001b[0m\u001b[0;34m.\u001b[0m\u001b[0mcolumns\u001b[0m\u001b[0;34m.\u001b[0m\u001b[0mis_unique\u001b[0m\u001b[0;34m:\u001b[0m\u001b[0;34m\u001b[0m\u001b[0m\n\u001b[0;32m-> 2004\u001b[0;31m             \u001b[0;32mreturn\u001b[0m \u001b[0mself\u001b[0m\u001b[0;34m.\u001b[0m\u001b[0m_get_item_cache\u001b[0m\u001b[0;34m(\u001b[0m\u001b[0mkey\u001b[0m\u001b[0;34m)\u001b[0m\u001b[0;34m\u001b[0m\u001b[0m\n\u001b[0m\u001b[1;32m   2005\u001b[0m \u001b[0;34m\u001b[0m\u001b[0m\n\u001b[1;32m   2006\u001b[0m         \u001b[0;31m# duplicate columns & possible reduce dimensionality\u001b[0m\u001b[0;34m\u001b[0m\u001b[0;34m\u001b[0m\u001b[0m\n",
      "\u001b[0;32m/Users/barneyjs/.virtualenvs/master/lib/python3.5/site-packages/pandas/core/generic.py\u001b[0m in \u001b[0;36m_get_item_cache\u001b[0;34m(self, item)\u001b[0m\n\u001b[1;32m   1348\u001b[0m         \u001b[0mres\u001b[0m \u001b[0;34m=\u001b[0m \u001b[0mcache\u001b[0m\u001b[0;34m.\u001b[0m\u001b[0mget\u001b[0m\u001b[0;34m(\u001b[0m\u001b[0mitem\u001b[0m\u001b[0;34m)\u001b[0m\u001b[0;34m\u001b[0m\u001b[0m\n\u001b[1;32m   1349\u001b[0m         \u001b[0;32mif\u001b[0m \u001b[0mres\u001b[0m \u001b[0;32mis\u001b[0m \u001b[0;32mNone\u001b[0m\u001b[0;34m:\u001b[0m\u001b[0;34m\u001b[0m\u001b[0m\n\u001b[0;32m-> 1350\u001b[0;31m             \u001b[0mvalues\u001b[0m \u001b[0;34m=\u001b[0m \u001b[0mself\u001b[0m\u001b[0;34m.\u001b[0m\u001b[0m_data\u001b[0m\u001b[0;34m.\u001b[0m\u001b[0mget\u001b[0m\u001b[0;34m(\u001b[0m\u001b[0mitem\u001b[0m\u001b[0;34m)\u001b[0m\u001b[0;34m\u001b[0m\u001b[0m\n\u001b[0m\u001b[1;32m   1351\u001b[0m             \u001b[0mres\u001b[0m \u001b[0;34m=\u001b[0m \u001b[0mself\u001b[0m\u001b[0;34m.\u001b[0m\u001b[0m_box_item_values\u001b[0m\u001b[0;34m(\u001b[0m\u001b[0mitem\u001b[0m\u001b[0;34m,\u001b[0m \u001b[0mvalues\u001b[0m\u001b[0;34m)\u001b[0m\u001b[0;34m\u001b[0m\u001b[0m\n\u001b[1;32m   1352\u001b[0m             \u001b[0mcache\u001b[0m\u001b[0;34m[\u001b[0m\u001b[0mitem\u001b[0m\u001b[0;34m]\u001b[0m \u001b[0;34m=\u001b[0m \u001b[0mres\u001b[0m\u001b[0;34m\u001b[0m\u001b[0m\n",
      "\u001b[0;32m/Users/barneyjs/.virtualenvs/master/lib/python3.5/site-packages/pandas/core/internals.py\u001b[0m in \u001b[0;36mget\u001b[0;34m(self, item, fastpath)\u001b[0m\n\u001b[1;32m   3288\u001b[0m \u001b[0;34m\u001b[0m\u001b[0m\n\u001b[1;32m   3289\u001b[0m             \u001b[0;32mif\u001b[0m \u001b[0;32mnot\u001b[0m \u001b[0misnull\u001b[0m\u001b[0;34m(\u001b[0m\u001b[0mitem\u001b[0m\u001b[0;34m)\u001b[0m\u001b[0;34m:\u001b[0m\u001b[0;34m\u001b[0m\u001b[0m\n\u001b[0;32m-> 3290\u001b[0;31m                 \u001b[0mloc\u001b[0m \u001b[0;34m=\u001b[0m \u001b[0mself\u001b[0m\u001b[0;34m.\u001b[0m\u001b[0mitems\u001b[0m\u001b[0;34m.\u001b[0m\u001b[0mget_loc\u001b[0m\u001b[0;34m(\u001b[0m\u001b[0mitem\u001b[0m\u001b[0;34m)\u001b[0m\u001b[0;34m\u001b[0m\u001b[0m\n\u001b[0m\u001b[1;32m   3291\u001b[0m             \u001b[0;32melse\u001b[0m\u001b[0;34m:\u001b[0m\u001b[0;34m\u001b[0m\u001b[0m\n\u001b[1;32m   3292\u001b[0m                 \u001b[0mindexer\u001b[0m \u001b[0;34m=\u001b[0m \u001b[0mnp\u001b[0m\u001b[0;34m.\u001b[0m\u001b[0marange\u001b[0m\u001b[0;34m(\u001b[0m\u001b[0mlen\u001b[0m\u001b[0;34m(\u001b[0m\u001b[0mself\u001b[0m\u001b[0;34m.\u001b[0m\u001b[0mitems\u001b[0m\u001b[0;34m)\u001b[0m\u001b[0;34m)\u001b[0m\u001b[0;34m[\u001b[0m\u001b[0misnull\u001b[0m\u001b[0;34m(\u001b[0m\u001b[0mself\u001b[0m\u001b[0;34m.\u001b[0m\u001b[0mitems\u001b[0m\u001b[0;34m)\u001b[0m\u001b[0;34m]\u001b[0m\u001b[0;34m\u001b[0m\u001b[0m\n",
      "\u001b[0;32m/Users/barneyjs/.virtualenvs/master/lib/python3.5/site-packages/pandas/indexes/base.py\u001b[0m in \u001b[0;36mget_loc\u001b[0;34m(self, key, method, tolerance)\u001b[0m\n\u001b[1;32m   1945\u001b[0m                 \u001b[0;32mreturn\u001b[0m \u001b[0mself\u001b[0m\u001b[0;34m.\u001b[0m\u001b[0m_engine\u001b[0m\u001b[0;34m.\u001b[0m\u001b[0mget_loc\u001b[0m\u001b[0;34m(\u001b[0m\u001b[0mkey\u001b[0m\u001b[0;34m)\u001b[0m\u001b[0;34m\u001b[0m\u001b[0m\n\u001b[1;32m   1946\u001b[0m             \u001b[0;32mexcept\u001b[0m \u001b[0mKeyError\u001b[0m\u001b[0;34m:\u001b[0m\u001b[0;34m\u001b[0m\u001b[0m\n\u001b[0;32m-> 1947\u001b[0;31m                 \u001b[0;32mreturn\u001b[0m \u001b[0mself\u001b[0m\u001b[0;34m.\u001b[0m\u001b[0m_engine\u001b[0m\u001b[0;34m.\u001b[0m\u001b[0mget_loc\u001b[0m\u001b[0;34m(\u001b[0m\u001b[0mself\u001b[0m\u001b[0;34m.\u001b[0m\u001b[0m_maybe_cast_indexer\u001b[0m\u001b[0;34m(\u001b[0m\u001b[0mkey\u001b[0m\u001b[0;34m)\u001b[0m\u001b[0;34m)\u001b[0m\u001b[0;34m\u001b[0m\u001b[0m\n\u001b[0m\u001b[1;32m   1948\u001b[0m \u001b[0;34m\u001b[0m\u001b[0m\n\u001b[1;32m   1949\u001b[0m         \u001b[0mindexer\u001b[0m \u001b[0;34m=\u001b[0m \u001b[0mself\u001b[0m\u001b[0;34m.\u001b[0m\u001b[0mget_indexer\u001b[0m\u001b[0;34m(\u001b[0m\u001b[0;34m[\u001b[0m\u001b[0mkey\u001b[0m\u001b[0;34m]\u001b[0m\u001b[0;34m,\u001b[0m \u001b[0mmethod\u001b[0m\u001b[0;34m=\u001b[0m\u001b[0mmethod\u001b[0m\u001b[0;34m,\u001b[0m \u001b[0mtolerance\u001b[0m\u001b[0;34m=\u001b[0m\u001b[0mtolerance\u001b[0m\u001b[0;34m)\u001b[0m\u001b[0;34m\u001b[0m\u001b[0m\n",
      "\u001b[0;32mpandas/index.pyx\u001b[0m in \u001b[0;36mpandas.index.IndexEngine.get_loc (pandas/index.c:4154)\u001b[0;34m()\u001b[0m\n",
      "\u001b[0;32mpandas/index.pyx\u001b[0m in \u001b[0;36mpandas.index.IndexEngine.get_loc (pandas/index.c:4018)\u001b[0;34m()\u001b[0m\n",
      "\u001b[0;32mpandas/hashtable.pyx\u001b[0m in \u001b[0;36mpandas.hashtable.PyObjectHashTable.get_item (pandas/hashtable.c:12368)\u001b[0;34m()\u001b[0m\n",
      "\u001b[0;32mpandas/hashtable.pyx\u001b[0m in \u001b[0;36mpandas.hashtable.PyObjectHashTable.get_item (pandas/hashtable.c:12322)\u001b[0;34m()\u001b[0m\n",
      "\u001b[0;31mKeyError\u001b[0m: 'id'"
     ]
    }
   ],
   "source": [
    "leg_50_NRgesamtabstimmung = leg_50_NRgesamtabstimmung.merge(df_50_NR, left_on='id', right_on='CouncillorId')"
   ]
  },
  {
   "cell_type": "code",
   "execution_count": 139,
   "metadata": {
    "collapsed": true
   },
   "outputs": [],
   "source": [
    "#Deleting Markwalder (president), Parmelin (Bundesrat)\n",
    "leg_50_NRgesamtabstimmung = leg_50_NRgesamtabstimmung.reindex(leg_50_NRgesamtabstimmung.index.drop(42))\n",
    "leg_50_NRgesamtabstimmung = leg_50_NRgesamtabstimmung.reindex(leg_50_NRgesamtabstimmung.index.drop(46))"
   ]
  },
  {
   "cell_type": "code",
   "execution_count": 141,
   "metadata": {
    "collapsed": true
   },
   "outputs": [],
   "source": [
    "leg_50_NRgesamtabstimmung = leg_50_NRgesamtabstimmung[['CouncillorName', 'Fraktion', 'Kanton', 'Per. w/maj', 'dec with majority']].copy()"
   ]
  },
  {
   "cell_type": "code",
   "execution_count": 312,
   "metadata": {
    "collapsed": true
   },
   "outputs": [],
   "source": [
    "leg_50_NRgesamtabstimmung = leg_50_NRgesamtabstimmung.reindex(leg_50_NRgesamtabstimmung.index.drop(176))"
   ]
  },
  {
   "cell_type": "code",
   "execution_count": 313,
   "metadata": {
    "collapsed": false
   },
   "outputs": [
    {
     "data": {
      "text/html": [
       "<div>\n",
       "<table border=\"1\" class=\"dataframe\">\n",
       "  <thead>\n",
       "    <tr style=\"text-align: right;\">\n",
       "      <th></th>\n",
       "      <th>CouncillorName</th>\n",
       "      <th>Fraktion</th>\n",
       "      <th>Kanton</th>\n",
       "      <th>Per. w/maj</th>\n",
       "      <th>dec with majority</th>\n",
       "    </tr>\n",
       "  </thead>\n",
       "  <tbody>\n",
       "    <tr>\n",
       "      <th>11</th>\n",
       "      <td>Köppel Roger</td>\n",
       "      <td>V</td>\n",
       "      <td>ZH</td>\n",
       "      <td>36.2</td>\n",
       "      <td>47</td>\n",
       "    </tr>\n",
       "    <tr>\n",
       "      <th>182</th>\n",
       "      <td>Stahl Jürg</td>\n",
       "      <td>V</td>\n",
       "      <td>ZH</td>\n",
       "      <td>37.7</td>\n",
       "      <td>49</td>\n",
       "    </tr>\n",
       "    <tr>\n",
       "      <th>83</th>\n",
       "      <td>Reimann Lukas</td>\n",
       "      <td>V</td>\n",
       "      <td>SG</td>\n",
       "      <td>39.2</td>\n",
       "      <td>51</td>\n",
       "    </tr>\n",
       "    <tr>\n",
       "      <th>6</th>\n",
       "      <td>Hess Erich</td>\n",
       "      <td>V</td>\n",
       "      <td>BE</td>\n",
       "      <td>40.0</td>\n",
       "      <td>52</td>\n",
       "    </tr>\n",
       "    <tr>\n",
       "      <th>50</th>\n",
       "      <td>Schwander Pirmin</td>\n",
       "      <td>V</td>\n",
       "      <td>SZ</td>\n",
       "      <td>41.5</td>\n",
       "      <td>54</td>\n",
       "    </tr>\n",
       "  </tbody>\n",
       "</table>\n",
       "</div>"
      ],
      "text/plain": [
       "       CouncillorName Fraktion Kanton  Per. w/maj  dec with majority\n",
       "11       Köppel Roger        V     ZH        36.2                 47\n",
       "182        Stahl Jürg        V     ZH        37.7                 49\n",
       "83      Reimann Lukas        V     SG        39.2                 51\n",
       "6          Hess Erich        V     BE        40.0                 52\n",
       "50   Schwander Pirmin        V     SZ        41.5                 54"
      ]
     },
     "execution_count": 313,
     "metadata": {},
     "output_type": "execute_result"
    }
   ],
   "source": [
    "leg_50_NRgesamtabstimmung.sort_values(by='Per. w/maj', ascending=True).head(5)"
   ]
  },
  {
   "cell_type": "code",
   "execution_count": null,
   "metadata": {
    "collapsed": true
   },
   "outputs": [],
   "source": []
  },
  {
   "cell_type": "code",
   "execution_count": 143,
   "metadata": {
    "collapsed": false
   },
   "outputs": [
    {
     "data": {
      "text/html": [
       "<div>\n",
       "<table border=\"1\" class=\"dataframe\">\n",
       "  <thead>\n",
       "    <tr style=\"text-align: right;\">\n",
       "      <th></th>\n",
       "      <th>CouncillorName</th>\n",
       "      <th>Fraktion</th>\n",
       "      <th>Kanton</th>\n",
       "      <th>Per. w/maj</th>\n",
       "      <th>dec with majority</th>\n",
       "    </tr>\n",
       "  </thead>\n",
       "  <tbody>\n",
       "    <tr>\n",
       "      <th>128</th>\n",
       "      <td>Vogler Karl</td>\n",
       "      <td>C</td>\n",
       "      <td>OW</td>\n",
       "      <td>97.7</td>\n",
       "      <td>127</td>\n",
       "    </tr>\n",
       "    <tr>\n",
       "      <th>66</th>\n",
       "      <td>Bourgeois Jacques</td>\n",
       "      <td>RL</td>\n",
       "      <td>FR</td>\n",
       "      <td>96.2</td>\n",
       "      <td>125</td>\n",
       "    </tr>\n",
       "    <tr>\n",
       "      <th>62</th>\n",
       "      <td>Cassis Ignazio</td>\n",
       "      <td>RL</td>\n",
       "      <td>TI</td>\n",
       "      <td>95.4</td>\n",
       "      <td>124</td>\n",
       "    </tr>\n",
       "    <tr>\n",
       "      <th>76</th>\n",
       "      <td>Hiltpold Hugues</td>\n",
       "      <td>RL</td>\n",
       "      <td>GE</td>\n",
       "      <td>95.4</td>\n",
       "      <td>124</td>\n",
       "    </tr>\n",
       "    <tr>\n",
       "      <th>21</th>\n",
       "      <td>Humbel Ruth</td>\n",
       "      <td>C</td>\n",
       "      <td>AG</td>\n",
       "      <td>95.4</td>\n",
       "      <td>124</td>\n",
       "    </tr>\n",
       "  </tbody>\n",
       "</table>\n",
       "</div>"
      ],
      "text/plain": [
       "        CouncillorName Fraktion Kanton  Per. w/maj  dec with majority\n",
       "128        Vogler Karl        C     OW        97.7                127\n",
       "66   Bourgeois Jacques       RL     FR        96.2                125\n",
       "62      Cassis Ignazio       RL     TI        95.4                124\n",
       "76     Hiltpold Hugues       RL     GE        95.4                124\n",
       "21         Humbel Ruth        C     AG        95.4                124"
      ]
     },
     "execution_count": 143,
     "metadata": {},
     "output_type": "execute_result"
    }
   ],
   "source": [
    "leg_50_NRgesamtabstimmung.sort_values(by='Per. w/maj', ascending=False).head(5)"
   ]
  },
  {
   "cell_type": "code",
   "execution_count": 300,
   "metadata": {
    "collapsed": true
   },
   "outputs": [],
   "source": [
    "leg_50_NRgesamtabstimmung.to_csv('50_leg_gesamtabstimmungen.csv')"
   ]
  },
  {
   "cell_type": "markdown",
   "metadata": {},
   "source": [
    "#### 3.2 For the parties Leg. 49"
   ]
  },
  {
   "cell_type": "code",
   "execution_count": 146,
   "metadata": {
    "collapsed": false
   },
   "outputs": [
    {
     "data": {
      "text/plain": [
       "Gesamtabstimmung           16697\n",
       "Eintreten                   3874\n",
       "Art. 1 - Ausgabenbremse     1743\n",
       "Rückweisungsantrag          1334\n",
       "Art. 2                       936\n",
       "Name: div_text, dtype: int64"
      ]
     },
     "execution_count": 146,
     "metadata": {},
     "output_type": "execute_result"
    }
   ],
   "source": [
    "df_49_m['div_text'].value_counts().head(5)"
   ]
  },
  {
   "cell_type": "code",
   "execution_count": 147,
   "metadata": {
    "collapsed": true
   },
   "outputs": [],
   "source": [
    "df_49_gesamtabstimmung = df_49_m[df_49_m['div_text'] == 'Gesamtabstimmung']"
   ]
  },
  {
   "cell_type": "code",
   "execution_count": 306,
   "metadata": {
    "collapsed": false
   },
   "outputs": [],
   "source": [
    "df_49_m[df_49_m['div_text'] == 'Gesamtabstimmung'].to_csv('kontrollen_49_leg_gesamt.csv')"
   ]
  },
  {
   "cell_type": "code",
   "execution_count": 148,
   "metadata": {
    "collapsed": true
   },
   "outputs": [],
   "source": [
    "#Creating list of NR ids\n",
    "id_list = list(set(list(df_49_gesamtabstimmung['id'])))"
   ]
  },
  {
   "cell_type": "code",
   "execution_count": 149,
   "metadata": {
    "collapsed": true
   },
   "outputs": [],
   "source": [
    "#Iterating through that list\n",
    "leg_49_NRgesamtabstimmung = []\n",
    "\n",
    "for item in id_list:\n",
    "    \n",
    "    #Start the count afresh every time we start with new id\n",
    "    count = 0\n",
    "    \n",
    "    #creating lists in these mini dfs\n",
    "    majority_dec_list = list(df_49_gesamtabstimmung[df_49_gesamtabstimmung['id'] == item]['majority'])\n",
    "    NR_dec_lict = list(df_49_gesamtabstimmung[df_49_gesamtabstimmung['id'] == item]['entscheid'])\n",
    "    total_votes = len(list(df_49_gesamtabstimmung[df_49_gesamtabstimmung['id'] == item]['majority']))\n",
    "    \n",
    "    #Iterating through all of these lists together\n",
    "    for maj, dec in zip(majority_dec_list, NR_dec_lict):\n",
    "        if maj == dec:\n",
    "            count += 1\n",
    "    \n",
    "    NR_dict = {'id': item,\n",
    "               'dec with majority': count,\n",
    "               'Per. w/maj': round(count / total_votes * 100, 1)}\n",
    "    \n",
    "    leg_49_NRgesamtabstimmung.append(NR_dict)"
   ]
  },
  {
   "cell_type": "code",
   "execution_count": 150,
   "metadata": {
    "collapsed": true
   },
   "outputs": [],
   "source": [
    "leg_49_NRgesamtabstimmung = pd.DataFrame(leg_49_NRgesamtabstimmung)"
   ]
  },
  {
   "cell_type": "code",
   "execution_count": 151,
   "metadata": {
    "collapsed": true
   },
   "outputs": [],
   "source": [
    "leg_49_NRgesamtabstimmung = leg_49_NRgesamtabstimmung.merge(df_49_NR, left_on='id', right_on='CouncillorId')"
   ]
  },
  {
   "cell_type": "code",
   "execution_count": 156,
   "metadata": {
    "collapsed": true
   },
   "outputs": [],
   "source": [
    "#Deleting Walter (president), Rickli (Burnout)\n",
    "leg_49_NRgesamtabstimmung = leg_49_NRgesamtabstimmung.reindex(leg_49_NRgesamtabstimmung.index.drop(134))\n",
    "leg_49_NRgesamtabstimmung = leg_49_NRgesamtabstimmung.reindex(leg_49_NRgesamtabstimmung.index.drop(54))"
   ]
  },
  {
   "cell_type": "code",
   "execution_count": 157,
   "metadata": {
    "collapsed": true
   },
   "outputs": [],
   "source": [
    "leg_49_NRgesamtabstimmung = leg_49_NRgesamtabstimmung[['CouncillorName', 'Fraktion', 'Kanton', 'Per. w/maj', 'dec with majority']].copy()"
   ]
  },
  {
   "cell_type": "code",
   "execution_count": 159,
   "metadata": {
    "collapsed": false
   },
   "outputs": [
    {
     "data": {
      "text/html": [
       "<div>\n",
       "<table border=\"1\" class=\"dataframe\">\n",
       "  <thead>\n",
       "    <tr style=\"text-align: right;\">\n",
       "      <th></th>\n",
       "      <th>CouncillorName</th>\n",
       "      <th>Fraktion</th>\n",
       "      <th>Kanton</th>\n",
       "      <th>Per. w/maj</th>\n",
       "      <th>dec with majority</th>\n",
       "    </tr>\n",
       "  </thead>\n",
       "  <tbody>\n",
       "    <tr>\n",
       "      <th>131</th>\n",
       "      <td>Rutz Gregor A.</td>\n",
       "      <td>V</td>\n",
       "      <td>ZH</td>\n",
       "      <td>35.0</td>\n",
       "      <td>7</td>\n",
       "    </tr>\n",
       "    <tr>\n",
       "      <th>106</th>\n",
       "      <td>Stamm Luzi</td>\n",
       "      <td>V</td>\n",
       "      <td>AG</td>\n",
       "      <td>36.8</td>\n",
       "      <td>46</td>\n",
       "    </tr>\n",
       "    <tr>\n",
       "      <th>45</th>\n",
       "      <td>Heer Alfred</td>\n",
       "      <td>V</td>\n",
       "      <td>ZH</td>\n",
       "      <td>44.0</td>\n",
       "      <td>55</td>\n",
       "    </tr>\n",
       "    <tr>\n",
       "      <th>71</th>\n",
       "      <td>Quadri Lorenzo</td>\n",
       "      <td>V</td>\n",
       "      <td>TI</td>\n",
       "      <td>44.8</td>\n",
       "      <td>56</td>\n",
       "    </tr>\n",
       "    <tr>\n",
       "      <th>69</th>\n",
       "      <td>Frehner Sebastian</td>\n",
       "      <td>V</td>\n",
       "      <td>BS</td>\n",
       "      <td>45.6</td>\n",
       "      <td>57</td>\n",
       "    </tr>\n",
       "  </tbody>\n",
       "</table>\n",
       "</div>"
      ],
      "text/plain": [
       "        CouncillorName Fraktion Kanton  Per. w/maj  dec with majority\n",
       "131     Rutz Gregor A.        V     ZH        35.0                  7\n",
       "106         Stamm Luzi        V     AG        36.8                 46\n",
       "45         Heer Alfred        V     ZH        44.0                 55\n",
       "71      Quadri Lorenzo        V     TI        44.8                 56\n",
       "69   Frehner Sebastian        V     BS        45.6                 57"
      ]
     },
     "execution_count": 159,
     "metadata": {},
     "output_type": "execute_result"
    }
   ],
   "source": [
    "leg_49_NRgesamtabstimmung.sort_values(by='Per. w/maj').sort_values(by='Per. w/maj', ascending=True).head(5)"
   ]
  },
  {
   "cell_type": "code",
   "execution_count": 160,
   "metadata": {
    "collapsed": false
   },
   "outputs": [
    {
     "data": {
      "text/html": [
       "<div>\n",
       "<table border=\"1\" class=\"dataframe\">\n",
       "  <thead>\n",
       "    <tr style=\"text-align: right;\">\n",
       "      <th></th>\n",
       "      <th>CouncillorName</th>\n",
       "      <th>Fraktion</th>\n",
       "      <th>Kanton</th>\n",
       "      <th>Per. w/maj</th>\n",
       "      <th>dec with majority</th>\n",
       "    </tr>\n",
       "  </thead>\n",
       "  <tbody>\n",
       "    <tr>\n",
       "      <th>91</th>\n",
       "      <td>Quadranti Rosmarie</td>\n",
       "      <td>BD</td>\n",
       "      <td>ZH</td>\n",
       "      <td>96.0</td>\n",
       "      <td>120</td>\n",
       "    </tr>\n",
       "    <tr>\n",
       "      <th>94</th>\n",
       "      <td>Guhl Bernhard</td>\n",
       "      <td>BD</td>\n",
       "      <td>AG</td>\n",
       "      <td>95.2</td>\n",
       "      <td>119</td>\n",
       "    </tr>\n",
       "    <tr>\n",
       "      <th>68</th>\n",
       "      <td>Schneider-Schneiter Elisabeth</td>\n",
       "      <td>C</td>\n",
       "      <td>BL</td>\n",
       "      <td>93.6</td>\n",
       "      <td>117</td>\n",
       "    </tr>\n",
       "    <tr>\n",
       "      <th>24</th>\n",
       "      <td>Amherd Viola</td>\n",
       "      <td>C</td>\n",
       "      <td>VS</td>\n",
       "      <td>93.6</td>\n",
       "      <td>117</td>\n",
       "    </tr>\n",
       "    <tr>\n",
       "      <th>65</th>\n",
       "      <td>Ingold Maja</td>\n",
       "      <td>C</td>\n",
       "      <td>ZH</td>\n",
       "      <td>93.6</td>\n",
       "      <td>117</td>\n",
       "    </tr>\n",
       "  </tbody>\n",
       "</table>\n",
       "</div>"
      ],
      "text/plain": [
       "                   CouncillorName Fraktion Kanton  Per. w/maj  \\\n",
       "91             Quadranti Rosmarie       BD     ZH        96.0   \n",
       "94                  Guhl Bernhard       BD     AG        95.2   \n",
       "68  Schneider-Schneiter Elisabeth        C     BL        93.6   \n",
       "24                   Amherd Viola        C     VS        93.6   \n",
       "65                    Ingold Maja        C     ZH        93.6   \n",
       "\n",
       "    dec with majority  \n",
       "91                120  \n",
       "94                119  \n",
       "68                117  \n",
       "24                117  \n",
       "65                117  "
      ]
     },
     "execution_count": 160,
     "metadata": {},
     "output_type": "execute_result"
    }
   ],
   "source": [
    "leg_49_NRgesamtabstimmung.sort_values(by='Per. w/maj').sort_values(by='Per. w/maj', ascending=False).head(5)"
   ]
  },
  {
   "cell_type": "code",
   "execution_count": 299,
   "metadata": {
    "collapsed": true
   },
   "outputs": [],
   "source": [
    "leg_49_NRgesamtabstimmung.to_csv('49_leg_gesamtabstimmungen.csv')"
   ]
  },
  {
   "cell_type": "markdown",
   "metadata": {},
   "source": [
    "#### 3.3 Now the party averages"
   ]
  },
  {
   "cell_type": "code",
   "execution_count": 161,
   "metadata": {
    "collapsed": true
   },
   "outputs": [],
   "source": [
    "fraktions_list = list(set(list(leg_50_NRgesamtabstimmung['Fraktion'])))"
   ]
  },
  {
   "cell_type": "code",
   "execution_count": 162,
   "metadata": {
    "collapsed": true
   },
   "outputs": [],
   "source": [
    "#Creating new df for party average\n",
    "\n",
    "party_avg = []\n",
    "for item in fraktions_list:\n",
    "    avg = round(leg_50_NRgesamtabstimmung[leg_50_NRgesamtabstimmung['Fraktion'] == item]['Per. w/maj'].mean())\n",
    "    party_dict = {'Fraktion': item,\n",
    "                  'Durchschnitt': avg}\n",
    "    party_avg.append(party_dict)"
   ]
  },
  {
   "cell_type": "code",
   "execution_count": 164,
   "metadata": {
    "collapsed": false
   },
   "outputs": [
    {
     "data": {
      "text/html": [
       "<div>\n",
       "<table border=\"1\" class=\"dataframe\">\n",
       "  <thead>\n",
       "    <tr style=\"text-align: right;\">\n",
       "      <th></th>\n",
       "      <th>Durchschnitt</th>\n",
       "      <th>Fraktion</th>\n",
       "    </tr>\n",
       "  </thead>\n",
       "  <tbody>\n",
       "    <tr>\n",
       "      <th>0</th>\n",
       "      <td>91.0</td>\n",
       "      <td>C</td>\n",
       "    </tr>\n",
       "    <tr>\n",
       "      <th>3</th>\n",
       "      <td>86.0</td>\n",
       "      <td>GL</td>\n",
       "    </tr>\n",
       "    <tr>\n",
       "      <th>1</th>\n",
       "      <td>85.0</td>\n",
       "      <td>RL</td>\n",
       "    </tr>\n",
       "    <tr>\n",
       "      <th>4</th>\n",
       "      <td>84.0</td>\n",
       "      <td>BD</td>\n",
       "    </tr>\n",
       "    <tr>\n",
       "      <th>5</th>\n",
       "      <td>83.0</td>\n",
       "      <td>G</td>\n",
       "    </tr>\n",
       "    <tr>\n",
       "      <th>6</th>\n",
       "      <td>82.0</td>\n",
       "      <td>S</td>\n",
       "    </tr>\n",
       "    <tr>\n",
       "      <th>2</th>\n",
       "      <td>53.0</td>\n",
       "      <td>V</td>\n",
       "    </tr>\n",
       "  </tbody>\n",
       "</table>\n",
       "</div>"
      ],
      "text/plain": [
       "   Durchschnitt Fraktion\n",
       "0          91.0        C\n",
       "3          86.0       GL\n",
       "1          85.0       RL\n",
       "4          84.0       BD\n",
       "5          83.0        G\n",
       "6          82.0        S\n",
       "2          53.0        V"
      ]
     },
     "execution_count": 164,
     "metadata": {},
     "output_type": "execute_result"
    }
   ],
   "source": [
    "pd.DataFrame(party_avg).sort_values(by='Durchschnitt', ascending=False)"
   ]
  },
  {
   "cell_type": "code",
   "execution_count": 165,
   "metadata": {
    "collapsed": true
   },
   "outputs": [],
   "source": [
    "fraktions_list = list(set(list(leg_49_NRgesamtabstimmung['Fraktion'])))"
   ]
  },
  {
   "cell_type": "code",
   "execution_count": 166,
   "metadata": {
    "collapsed": true
   },
   "outputs": [],
   "source": [
    "#Creating new df for party average\n",
    "\n",
    "party_avg = []\n",
    "for item in fraktions_list:\n",
    "    avg = round(leg_49_NRgesamtabstimmung[leg_49_NRgesamtabstimmung['Fraktion'] == item]['Per. w/maj'].mean())\n",
    "    party_dict = {'Fraktion': item,\n",
    "                  'Durchschnitt': avg}\n",
    "    party_avg.append(party_dict)"
   ]
  },
  {
   "cell_type": "code",
   "execution_count": 167,
   "metadata": {
    "collapsed": false
   },
   "outputs": [
    {
     "data": {
      "text/html": [
       "<div>\n",
       "<table border=\"1\" class=\"dataframe\">\n",
       "  <thead>\n",
       "    <tr style=\"text-align: right;\">\n",
       "      <th></th>\n",
       "      <th>Durchschnitt</th>\n",
       "      <th>Fraktion</th>\n",
       "    </tr>\n",
       "  </thead>\n",
       "  <tbody>\n",
       "    <tr>\n",
       "      <th>0</th>\n",
       "      <td>86.0</td>\n",
       "      <td>C</td>\n",
       "    </tr>\n",
       "    <tr>\n",
       "      <th>1</th>\n",
       "      <td>82.0</td>\n",
       "      <td>RL</td>\n",
       "    </tr>\n",
       "    <tr>\n",
       "      <th>3</th>\n",
       "      <td>78.0</td>\n",
       "      <td>GL</td>\n",
       "    </tr>\n",
       "    <tr>\n",
       "      <th>4</th>\n",
       "      <td>78.0</td>\n",
       "      <td>BD</td>\n",
       "    </tr>\n",
       "    <tr>\n",
       "      <th>6</th>\n",
       "      <td>78.0</td>\n",
       "      <td>S</td>\n",
       "    </tr>\n",
       "    <tr>\n",
       "      <th>5</th>\n",
       "      <td>73.0</td>\n",
       "      <td>G</td>\n",
       "    </tr>\n",
       "    <tr>\n",
       "      <th>2</th>\n",
       "      <td>59.0</td>\n",
       "      <td>V</td>\n",
       "    </tr>\n",
       "  </tbody>\n",
       "</table>\n",
       "</div>"
      ],
      "text/plain": [
       "   Durchschnitt Fraktion\n",
       "0          86.0        C\n",
       "1          82.0       RL\n",
       "3          78.0       GL\n",
       "4          78.0       BD\n",
       "6          78.0        S\n",
       "5          73.0        G\n",
       "2          59.0        V"
      ]
     },
     "execution_count": 167,
     "metadata": {},
     "output_type": "execute_result"
    }
   ],
   "source": [
    "pd.DataFrame(party_avg).sort_values(by='Durchschnitt', ascending=False)"
   ]
  },
  {
   "cell_type": "markdown",
   "metadata": {},
   "source": [
    "#### 4. Which politicians didn't vote with the majority of the party? (Only 50. Leg.)"
   ]
  },
  {
   "cell_type": "code",
   "execution_count": 242,
   "metadata": {
    "collapsed": true
   },
   "outputs": [],
   "source": [
    "#Creating the lists I want\n",
    "fraktions_list = list(set(list(df_50_m['Fraktion'])))\n",
    "reg_list = list(set(list(df_50_m['reg'])))"
   ]
  },
  {
   "cell_type": "code",
   "execution_count": 243,
   "metadata": {
    "collapsed": false
   },
   "outputs": [
    {
     "name": "stderr",
     "output_type": "stream",
     "text": [
      "/usr/local/lib/python3.5/site-packages/ipykernel/__main__.py:3: SettingWithCopyWarning: \n",
      "A value is trying to be set on a copy of a slice from a DataFrame.\n",
      "Try using .loc[row_indexer,col_indexer] = value instead\n",
      "\n",
      "See the caveats in the documentation: http://pandas.pydata.org/pandas-docs/stable/indexing.html#indexing-view-versus-copy\n",
      "  app.launch_new_instance()\n"
     ]
    }
   ],
   "source": [
    "#Starting off the new df\n",
    "df_fraktionsmehrheit = df_50_m[:1]\n",
    "df_fraktionsmehrheit['Fraktionsmehrheit'] = 'XX'"
   ]
  },
  {
   "cell_type": "code",
   "execution_count": 244,
   "metadata": {
    "collapsed": false
   },
   "outputs": [
    {
     "name": "stderr",
     "output_type": "stream",
     "text": [
      "/usr/local/lib/python3.5/site-packages/ipykernel/__main__.py:13: SettingWithCopyWarning: \n",
      "A value is trying to be set on a copy of a slice from a DataFrame.\n",
      "Try using .loc[row_indexer,col_indexer] = value instead\n",
      "\n",
      "See the caveats in the documentation: http://pandas.pydata.org/pandas-docs/stable/indexing.html#indexing-view-versus-copy\n"
     ]
    }
   ],
   "source": [
    "#Creating new data frame with the party majority vote\n",
    "for item in fraktions_list:\n",
    "    \n",
    "    #getting the fraktionen\n",
    "    fraktion = df_50_m[df_50_m['Fraktion'] == item]\n",
    "    \n",
    "    for reg in reg_list:\n",
    "        #Pulling out every reg separately\n",
    "        reg = fraktion[fraktion['reg'] == reg]\n",
    "        #Counting the most common vote per affair\n",
    "        majority = reg['entscheid'].value_counts()[:1].index[0]\n",
    "        #Assigning that to its own column\n",
    "        reg['Fraktionsmehrheit'] = majority\n",
    "        #And now creating a new df\n",
    "        df_fraktionsmehrheit = pd.concat([df_fraktionsmehrheit, reg])"
   ]
  },
  {
   "cell_type": "code",
   "execution_count": 252,
   "metadata": {
    "collapsed": false
   },
   "outputs": [],
   "source": [
    "#Deleting the row I started off with\n",
    "df_fraktionsmehrheit = df_fraktionsmehrheit.reset_index()\n",
    "df_fraktionsmehrheit = df_fraktionsmehrheit.reindex(df_fraktionsmehrheit.index.drop(0))"
   ]
  },
  {
   "cell_type": "code",
   "execution_count": 253,
   "metadata": {
    "collapsed": true
   },
   "outputs": [],
   "source": [
    "#Setting up the list I need\n",
    "id_list = list(set(list(df_fraktionsmehrheit['id'])))"
   ]
  },
  {
   "cell_type": "code",
   "execution_count": 254,
   "metadata": {
    "collapsed": false
   },
   "outputs": [
    {
     "ename": "KeyError",
     "evalue": "'div_text'",
     "output_type": "error",
     "traceback": [
      "\u001b[0;31m---------------------------------------------------------------------------\u001b[0m",
      "\u001b[0;31mKeyError\u001b[0m                                  Traceback (most recent call last)",
      "\u001b[0;32m/Users/barneyjs/.virtualenvs/master/lib/python3.5/site-packages/pandas/indexes/base.py\u001b[0m in \u001b[0;36mget_loc\u001b[0;34m(self, key, method, tolerance)\u001b[0m\n\u001b[1;32m   1944\u001b[0m             \u001b[0;32mtry\u001b[0m\u001b[0;34m:\u001b[0m\u001b[0;34m\u001b[0m\u001b[0m\n\u001b[0;32m-> 1945\u001b[0;31m                 \u001b[0;32mreturn\u001b[0m \u001b[0mself\u001b[0m\u001b[0;34m.\u001b[0m\u001b[0m_engine\u001b[0m\u001b[0;34m.\u001b[0m\u001b[0mget_loc\u001b[0m\u001b[0;34m(\u001b[0m\u001b[0mkey\u001b[0m\u001b[0;34m)\u001b[0m\u001b[0;34m\u001b[0m\u001b[0m\n\u001b[0m\u001b[1;32m   1946\u001b[0m             \u001b[0;32mexcept\u001b[0m \u001b[0mKeyError\u001b[0m\u001b[0;34m:\u001b[0m\u001b[0;34m\u001b[0m\u001b[0m\n",
      "\u001b[0;32mpandas/index.pyx\u001b[0m in \u001b[0;36mpandas.index.IndexEngine.get_loc (pandas/index.c:4154)\u001b[0;34m()\u001b[0m\n",
      "\u001b[0;32mpandas/index.pyx\u001b[0m in \u001b[0;36mpandas.index.IndexEngine.get_loc (pandas/index.c:4018)\u001b[0;34m()\u001b[0m\n",
      "\u001b[0;32mpandas/hashtable.pyx\u001b[0m in \u001b[0;36mpandas.hashtable.PyObjectHashTable.get_item (pandas/hashtable.c:12368)\u001b[0;34m()\u001b[0m\n",
      "\u001b[0;32mpandas/hashtable.pyx\u001b[0m in \u001b[0;36mpandas.hashtable.PyObjectHashTable.get_item (pandas/hashtable.c:12322)\u001b[0;34m()\u001b[0m\n",
      "\u001b[0;31mKeyError\u001b[0m: 'div_text'",
      "\nDuring handling of the above exception, another exception occurred:\n",
      "\u001b[0;31mKeyError\u001b[0m                                  Traceback (most recent call last)",
      "\u001b[0;32m<ipython-input-254-f1fdf0cce355>\u001b[0m in \u001b[0;36m<module>\u001b[0;34m()\u001b[0m\n\u001b[1;32m      1\u001b[0m \u001b[0;31m#Deleting all the entries that are no\u001b[0m\u001b[0;34m\u001b[0m\u001b[0;34m\u001b[0m\u001b[0m\n\u001b[1;32m      2\u001b[0m \u001b[0;31m#First deleting everything with Nones\u001b[0m\u001b[0;34m\u001b[0m\u001b[0;34m\u001b[0m\u001b[0m\n\u001b[0;32m----> 3\u001b[0;31m \u001b[0;32mdel\u001b[0m \u001b[0mdf_fraktionsmehrheit\u001b[0m\u001b[0;34m[\u001b[0m\u001b[0;34m'div_text'\u001b[0m\u001b[0;34m]\u001b[0m\u001b[0;34m\u001b[0m\u001b[0m\n\u001b[0m\u001b[1;32m      4\u001b[0m \u001b[0;32mdel\u001b[0m \u001b[0mdf_fraktionsmehrheit\u001b[0m\u001b[0;34m[\u001b[0m\u001b[0;34m'sub_text'\u001b[0m\u001b[0;34m]\u001b[0m\u001b[0;34m\u001b[0m\u001b[0m\n\u001b[1;32m      5\u001b[0m \u001b[0;32mdel\u001b[0m \u001b[0mdf_fraktionsmehrheit\u001b[0m\u001b[0;34m[\u001b[0m\u001b[0;34m'st'\u001b[0m\u001b[0;34m]\u001b[0m\u001b[0;34m\u001b[0m\u001b[0m\n",
      "\u001b[0;32m/Users/barneyjs/.virtualenvs/master/lib/python3.5/site-packages/pandas/core/generic.py\u001b[0m in \u001b[0;36m__delitem__\u001b[0;34m(self, key)\u001b[0m\n\u001b[1;32m   1604\u001b[0m             \u001b[0;31m# there was no match, this call should raise the appropriate\u001b[0m\u001b[0;34m\u001b[0m\u001b[0;34m\u001b[0m\u001b[0m\n\u001b[1;32m   1605\u001b[0m             \u001b[0;31m# exception:\u001b[0m\u001b[0;34m\u001b[0m\u001b[0;34m\u001b[0m\u001b[0m\n\u001b[0;32m-> 1606\u001b[0;31m             \u001b[0mself\u001b[0m\u001b[0;34m.\u001b[0m\u001b[0m_data\u001b[0m\u001b[0;34m.\u001b[0m\u001b[0mdelete\u001b[0m\u001b[0;34m(\u001b[0m\u001b[0mkey\u001b[0m\u001b[0;34m)\u001b[0m\u001b[0;34m\u001b[0m\u001b[0m\n\u001b[0m\u001b[1;32m   1607\u001b[0m \u001b[0;34m\u001b[0m\u001b[0m\n\u001b[1;32m   1608\u001b[0m         \u001b[0;31m# delete from the caches\u001b[0m\u001b[0;34m\u001b[0m\u001b[0;34m\u001b[0m\u001b[0m\n",
      "\u001b[0;32m/Users/barneyjs/.virtualenvs/master/lib/python3.5/site-packages/pandas/core/internals.py\u001b[0m in \u001b[0;36mdelete\u001b[0;34m(self, item)\u001b[0m\n\u001b[1;32m   3347\u001b[0m         \u001b[0mDelete\u001b[0m \u001b[0mselected\u001b[0m \u001b[0mitem\u001b[0m \u001b[0;34m(\u001b[0m\u001b[0mitems\u001b[0m \u001b[0;32mif\u001b[0m \u001b[0mnon\u001b[0m\u001b[0;34m-\u001b[0m\u001b[0munique\u001b[0m\u001b[0;34m)\u001b[0m \u001b[0;32min\u001b[0m\u001b[0;34m-\u001b[0m\u001b[0mplace\u001b[0m\u001b[0;34m.\u001b[0m\u001b[0;34m\u001b[0m\u001b[0m\n\u001b[1;32m   3348\u001b[0m         \"\"\"\n\u001b[0;32m-> 3349\u001b[0;31m         \u001b[0mindexer\u001b[0m \u001b[0;34m=\u001b[0m \u001b[0mself\u001b[0m\u001b[0;34m.\u001b[0m\u001b[0mitems\u001b[0m\u001b[0;34m.\u001b[0m\u001b[0mget_loc\u001b[0m\u001b[0;34m(\u001b[0m\u001b[0mitem\u001b[0m\u001b[0;34m)\u001b[0m\u001b[0;34m\u001b[0m\u001b[0m\n\u001b[0m\u001b[1;32m   3350\u001b[0m \u001b[0;34m\u001b[0m\u001b[0m\n\u001b[1;32m   3351\u001b[0m         \u001b[0mis_deleted\u001b[0m \u001b[0;34m=\u001b[0m \u001b[0mnp\u001b[0m\u001b[0;34m.\u001b[0m\u001b[0mzeros\u001b[0m\u001b[0;34m(\u001b[0m\u001b[0mself\u001b[0m\u001b[0;34m.\u001b[0m\u001b[0mshape\u001b[0m\u001b[0;34m[\u001b[0m\u001b[0;36m0\u001b[0m\u001b[0;34m]\u001b[0m\u001b[0;34m,\u001b[0m \u001b[0mdtype\u001b[0m\u001b[0;34m=\u001b[0m\u001b[0mnp\u001b[0m\u001b[0;34m.\u001b[0m\u001b[0mbool_\u001b[0m\u001b[0;34m)\u001b[0m\u001b[0;34m\u001b[0m\u001b[0m\n",
      "\u001b[0;32m/Users/barneyjs/.virtualenvs/master/lib/python3.5/site-packages/pandas/indexes/base.py\u001b[0m in \u001b[0;36mget_loc\u001b[0;34m(self, key, method, tolerance)\u001b[0m\n\u001b[1;32m   1945\u001b[0m                 \u001b[0;32mreturn\u001b[0m \u001b[0mself\u001b[0m\u001b[0;34m.\u001b[0m\u001b[0m_engine\u001b[0m\u001b[0;34m.\u001b[0m\u001b[0mget_loc\u001b[0m\u001b[0;34m(\u001b[0m\u001b[0mkey\u001b[0m\u001b[0;34m)\u001b[0m\u001b[0;34m\u001b[0m\u001b[0m\n\u001b[1;32m   1946\u001b[0m             \u001b[0;32mexcept\u001b[0m \u001b[0mKeyError\u001b[0m\u001b[0;34m:\u001b[0m\u001b[0;34m\u001b[0m\u001b[0m\n\u001b[0;32m-> 1947\u001b[0;31m                 \u001b[0;32mreturn\u001b[0m \u001b[0mself\u001b[0m\u001b[0;34m.\u001b[0m\u001b[0m_engine\u001b[0m\u001b[0;34m.\u001b[0m\u001b[0mget_loc\u001b[0m\u001b[0;34m(\u001b[0m\u001b[0mself\u001b[0m\u001b[0;34m.\u001b[0m\u001b[0m_maybe_cast_indexer\u001b[0m\u001b[0;34m(\u001b[0m\u001b[0mkey\u001b[0m\u001b[0;34m)\u001b[0m\u001b[0;34m)\u001b[0m\u001b[0;34m\u001b[0m\u001b[0m\n\u001b[0m\u001b[1;32m   1948\u001b[0m \u001b[0;34m\u001b[0m\u001b[0m\n\u001b[1;32m   1949\u001b[0m         \u001b[0mindexer\u001b[0m \u001b[0;34m=\u001b[0m \u001b[0mself\u001b[0m\u001b[0;34m.\u001b[0m\u001b[0mget_indexer\u001b[0m\u001b[0;34m(\u001b[0m\u001b[0;34m[\u001b[0m\u001b[0mkey\u001b[0m\u001b[0;34m]\u001b[0m\u001b[0;34m,\u001b[0m \u001b[0mmethod\u001b[0m\u001b[0;34m=\u001b[0m\u001b[0mmethod\u001b[0m\u001b[0;34m,\u001b[0m \u001b[0mtolerance\u001b[0m\u001b[0;34m=\u001b[0m\u001b[0mtolerance\u001b[0m\u001b[0;34m)\u001b[0m\u001b[0;34m\u001b[0m\u001b[0m\n",
      "\u001b[0;32mpandas/index.pyx\u001b[0m in \u001b[0;36mpandas.index.IndexEngine.get_loc (pandas/index.c:4154)\u001b[0;34m()\u001b[0m\n",
      "\u001b[0;32mpandas/index.pyx\u001b[0m in \u001b[0;36mpandas.index.IndexEngine.get_loc (pandas/index.c:4018)\u001b[0;34m()\u001b[0m\n",
      "\u001b[0;32mpandas/hashtable.pyx\u001b[0m in \u001b[0;36mpandas.hashtable.PyObjectHashTable.get_item (pandas/hashtable.c:12368)\u001b[0;34m()\u001b[0m\n",
      "\u001b[0;32mpandas/hashtable.pyx\u001b[0m in \u001b[0;36mpandas.hashtable.PyObjectHashTable.get_item (pandas/hashtable.c:12322)\u001b[0;34m()\u001b[0m\n",
      "\u001b[0;31mKeyError\u001b[0m: 'div_text'"
     ]
    }
   ],
   "source": [
    "#Deleting all the entries that are no\n",
    "#First deleting everything with Nones\n",
    "del df_fraktionsmehrheit['div_text']\n",
    "del df_fraktionsmehrheit['sub_text']\n",
    "del df_fraktionsmehrheit['st']"
   ]
  },
  {
   "cell_type": "code",
   "execution_count": 255,
   "metadata": {
    "collapsed": true
   },
   "outputs": [],
   "source": [
    "def entscheid(elem):\n",
    "    if elem == 'NT':\n",
    "        elem = None\n",
    "    if elem == 'EH':\n",
    "        elem = None\n",
    "    if elem == 'ES':\n",
    "        elem = None\n",
    "    if elem == 'P':\n",
    "        elem = None\n",
    "    return elem"
   ]
  },
  {
   "cell_type": "code",
   "execution_count": 256,
   "metadata": {
    "collapsed": true
   },
   "outputs": [],
   "source": [
    "df_fraktionsmehrheit['entscheid2'] = df_fraktionsmehrheit['entscheid'].apply(entscheid)"
   ]
  },
  {
   "cell_type": "code",
   "execution_count": 259,
   "metadata": {
    "collapsed": false
   },
   "outputs": [],
   "source": [
    "df_fraktionsmehrheit = df_fraktionsmehrheit.dropna()"
   ]
  },
  {
   "cell_type": "code",
   "execution_count": 266,
   "metadata": {
    "collapsed": true
   },
   "outputs": [],
   "source": [
    "NR_not_with_party = []\n",
    "\n",
    "for item in id_list:\n",
    "    \n",
    "    count = 0\n",
    "    pol_df = df_fraktionsmehrheit[df_fraktionsmehrheit['id'] == item]\n",
    "    \n",
    "    entscheid_list = list(pol_df['entscheid'])\n",
    "    party_mjr_list = list(pol_df['Fraktionsmehrheit'])\n",
    "    \n",
    "    for vote, maj in zip(entscheid_list, party_mjr_list):\n",
    "        if vote != maj:\n",
    "            count += 1\n",
    "            \n",
    "    NR_dict = {'id': item,\n",
    "               'Not with party': count}\n",
    "    \n",
    "    NR_not_with_party.append(NR_dict)"
   ]
  },
  {
   "cell_type": "code",
   "execution_count": 269,
   "metadata": {
    "collapsed": false
   },
   "outputs": [],
   "source": [
    "df_notwith_maj = pd.DataFrame(NR_not_with_party).sort_values(by='Not with party')"
   ]
  },
  {
   "cell_type": "code",
   "execution_count": 272,
   "metadata": {
    "collapsed": true
   },
   "outputs": [],
   "source": [
    "df_notwith_maj = df_notwith_maj.merge(df_50_NR, left_on='id', right_on='CouncillorId')"
   ]
  },
  {
   "cell_type": "code",
   "execution_count": 276,
   "metadata": {
    "collapsed": false
   },
   "outputs": [],
   "source": [
    "#Deleting Parmelin\n",
    "df_notwith_maj = df_notwith_maj.reindex(df_notwith_maj.index.drop(4))"
   ]
  },
  {
   "cell_type": "code",
   "execution_count": 275,
   "metadata": {
    "collapsed": false
   },
   "outputs": [
    {
     "data": {
      "text/html": [
       "<div>\n",
       "<table border=\"1\" class=\"dataframe\">\n",
       "  <thead>\n",
       "    <tr style=\"text-align: right;\">\n",
       "      <th></th>\n",
       "      <th>Not with party</th>\n",
       "      <th>id</th>\n",
       "      <th>CouncillorId</th>\n",
       "      <th>CouncillorBioId</th>\n",
       "      <th>CouncillorName</th>\n",
       "      <th>Rat</th>\n",
       "      <th>Fraktion</th>\n",
       "      <th>Kanton</th>\n",
       "      <th>Geburtsdatum</th>\n",
       "      <th>Vereidigungsdatum</th>\n",
       "    </tr>\n",
       "  </thead>\n",
       "  <tbody>\n",
       "    <tr>\n",
       "      <th>0</th>\n",
       "      <td>2</td>\n",
       "      <td>2619</td>\n",
       "      <td>2619</td>\n",
       "      <td>1153</td>\n",
       "      <td>Noser Ruedi</td>\n",
       "      <td>NR</td>\n",
       "      <td>RL</td>\n",
       "      <td>ZH</td>\n",
       "      <td>1961-04-14</td>\n",
       "      <td>2015-11-30</td>\n",
       "    </tr>\n",
       "    <tr>\n",
       "      <th>1</th>\n",
       "      <td>2</td>\n",
       "      <td>2694</td>\n",
       "      <td>2694</td>\n",
       "      <td>3891</td>\n",
       "      <td>Jositsch Daniel</td>\n",
       "      <td>NR</td>\n",
       "      <td>S</td>\n",
       "      <td>ZH</td>\n",
       "      <td>1965-03-25</td>\n",
       "      <td>2015-11-30</td>\n",
       "    </tr>\n",
       "    <tr>\n",
       "      <th>2</th>\n",
       "      <td>4</td>\n",
       "      <td>3104</td>\n",
       "      <td>3104</td>\n",
       "      <td>4203</td>\n",
       "      <td>Barrile Angelo</td>\n",
       "      <td>NR</td>\n",
       "      <td>S</td>\n",
       "      <td>ZH</td>\n",
       "      <td>1976-08-22</td>\n",
       "      <td>2015-12-08</td>\n",
       "    </tr>\n",
       "    <tr>\n",
       "      <th>3</th>\n",
       "      <td>5</td>\n",
       "      <td>2759</td>\n",
       "      <td>2759</td>\n",
       "      <td>4057</td>\n",
       "      <td>Wermuth Cédric</td>\n",
       "      <td>NR</td>\n",
       "      <td>S</td>\n",
       "      <td>AG</td>\n",
       "      <td>1986-02-19</td>\n",
       "      <td>2015-11-30</td>\n",
       "    </tr>\n",
       "    <tr>\n",
       "      <th>4</th>\n",
       "      <td>5</td>\n",
       "      <td>2621</td>\n",
       "      <td>2621</td>\n",
       "      <td>1108</td>\n",
       "      <td>Parmelin Guy</td>\n",
       "      <td>NR</td>\n",
       "      <td>V</td>\n",
       "      <td>VD</td>\n",
       "      <td>1959-11-09</td>\n",
       "      <td>2015-11-30</td>\n",
       "    </tr>\n",
       "  </tbody>\n",
       "</table>\n",
       "</div>"
      ],
      "text/plain": [
       "   Not with party    id  CouncillorId  CouncillorBioId   CouncillorName Rat  \\\n",
       "0               2  2619          2619             1153      Noser Ruedi  NR   \n",
       "1               2  2694          2694             3891  Jositsch Daniel  NR   \n",
       "2               4  3104          3104             4203   Barrile Angelo  NR   \n",
       "3               5  2759          2759             4057   Wermuth Cédric  NR   \n",
       "4               5  2621          2621             1108     Parmelin Guy  NR   \n",
       "\n",
       "  Fraktion Kanton Geburtsdatum Vereidigungsdatum  \n",
       "0       RL     ZH   1961-04-14        2015-11-30  \n",
       "1        S     ZH   1965-03-25        2015-11-30  \n",
       "2        S     ZH   1976-08-22        2015-12-08  \n",
       "3        S     AG   1986-02-19        2015-11-30  \n",
       "4        V     VD   1959-11-09        2015-11-30  "
      ]
     },
     "execution_count": 275,
     "metadata": {},
     "output_type": "execute_result"
    }
   ],
   "source": [
    "df_notwith_maj.sort_values(by='Not with party').head(5)"
   ]
  },
  {
   "cell_type": "code",
   "execution_count": 311,
   "metadata": {
    "collapsed": true
   },
   "outputs": [],
   "source": [
    "df_notwith_maj.to_csv('ubersicht_abstimmungen_mit_partei.csv')"
   ]
  },
  {
   "cell_type": "code",
   "execution_count": 278,
   "metadata": {
    "collapsed": true
   },
   "outputs": [],
   "source": [
    "df_notwith_final = df_notwith_maj[['Not with party', 'CouncillorName', 'Fraktion', 'Kanton']].copy()"
   ]
  },
  {
   "cell_type": "code",
   "execution_count": 279,
   "metadata": {
    "collapsed": false
   },
   "outputs": [
    {
     "data": {
      "text/html": [
       "<div>\n",
       "<table border=\"1\" class=\"dataframe\">\n",
       "  <thead>\n",
       "    <tr style=\"text-align: right;\">\n",
       "      <th></th>\n",
       "      <th>Not with party</th>\n",
       "      <th>CouncillorName</th>\n",
       "      <th>Fraktion</th>\n",
       "      <th>Kanton</th>\n",
       "    </tr>\n",
       "  </thead>\n",
       "  <tbody>\n",
       "    <tr>\n",
       "      <th>0</th>\n",
       "      <td>2</td>\n",
       "      <td>Noser Ruedi</td>\n",
       "      <td>RL</td>\n",
       "      <td>ZH</td>\n",
       "    </tr>\n",
       "    <tr>\n",
       "      <th>1</th>\n",
       "      <td>2</td>\n",
       "      <td>Jositsch Daniel</td>\n",
       "      <td>S</td>\n",
       "      <td>ZH</td>\n",
       "    </tr>\n",
       "    <tr>\n",
       "      <th>2</th>\n",
       "      <td>4</td>\n",
       "      <td>Barrile Angelo</td>\n",
       "      <td>S</td>\n",
       "      <td>ZH</td>\n",
       "    </tr>\n",
       "    <tr>\n",
       "      <th>3</th>\n",
       "      <td>5</td>\n",
       "      <td>Wermuth Cédric</td>\n",
       "      <td>S</td>\n",
       "      <td>AG</td>\n",
       "    </tr>\n",
       "    <tr>\n",
       "      <th>5</th>\n",
       "      <td>5</td>\n",
       "      <td>Schenker Silvia</td>\n",
       "      <td>S</td>\n",
       "      <td>BS</td>\n",
       "    </tr>\n",
       "  </tbody>\n",
       "</table>\n",
       "</div>"
      ],
      "text/plain": [
       "   Not with party   CouncillorName Fraktion Kanton\n",
       "0               2      Noser Ruedi       RL     ZH\n",
       "1               2  Jositsch Daniel        S     ZH\n",
       "2               4   Barrile Angelo        S     ZH\n",
       "3               5   Wermuth Cédric        S     AG\n",
       "5               5  Schenker Silvia        S     BS"
      ]
     },
     "execution_count": 279,
     "metadata": {},
     "output_type": "execute_result"
    }
   ],
   "source": [
    "df_notwith_final.sort_values(by='Not with party').head(5)"
   ]
  },
  {
   "cell_type": "code",
   "execution_count": 280,
   "metadata": {
    "collapsed": false
   },
   "outputs": [
    {
     "data": {
      "text/html": [
       "<div>\n",
       "<table border=\"1\" class=\"dataframe\">\n",
       "  <thead>\n",
       "    <tr style=\"text-align: right;\">\n",
       "      <th></th>\n",
       "      <th>Not with party</th>\n",
       "      <th>CouncillorName</th>\n",
       "      <th>Fraktion</th>\n",
       "      <th>Kanton</th>\n",
       "    </tr>\n",
       "  </thead>\n",
       "  <tbody>\n",
       "    <tr>\n",
       "      <th>201</th>\n",
       "      <td>247</td>\n",
       "      <td>Streiff-Feller Marianne</td>\n",
       "      <td>C</td>\n",
       "      <td>BE</td>\n",
       "    </tr>\n",
       "    <tr>\n",
       "      <th>200</th>\n",
       "      <td>208</td>\n",
       "      <td>Ingold Maja</td>\n",
       "      <td>C</td>\n",
       "      <td>ZH</td>\n",
       "    </tr>\n",
       "    <tr>\n",
       "      <th>199</th>\n",
       "      <td>127</td>\n",
       "      <td>Pantani Roberta</td>\n",
       "      <td>V</td>\n",
       "      <td>TI</td>\n",
       "    </tr>\n",
       "    <tr>\n",
       "      <th>198</th>\n",
       "      <td>113</td>\n",
       "      <td>Müller Walter</td>\n",
       "      <td>RL</td>\n",
       "      <td>SG</td>\n",
       "    </tr>\n",
       "    <tr>\n",
       "      <th>197</th>\n",
       "      <td>95</td>\n",
       "      <td>Bigler Hans-Ulrich</td>\n",
       "      <td>RL</td>\n",
       "      <td>ZH</td>\n",
       "    </tr>\n",
       "  </tbody>\n",
       "</table>\n",
       "</div>"
      ],
      "text/plain": [
       "     Not with party           CouncillorName Fraktion Kanton\n",
       "201             247  Streiff-Feller Marianne        C     BE\n",
       "200             208              Ingold Maja        C     ZH\n",
       "199             127          Pantani Roberta        V     TI\n",
       "198             113            Müller Walter       RL     SG\n",
       "197              95       Bigler Hans-Ulrich       RL     ZH"
      ]
     },
     "execution_count": 280,
     "metadata": {},
     "output_type": "execute_result"
    }
   ],
   "source": [
    "df_notwith_final.sort_values(by='Not with party', ascending=False).head(5)"
   ]
  },
  {
   "cell_type": "code",
   "execution_count": 281,
   "metadata": {
    "collapsed": true
   },
   "outputs": [],
   "source": [
    "fraktion_list = list(set(list(df_notwith_final['Fraktion'])))"
   ]
  },
  {
   "cell_type": "code",
   "execution_count": 286,
   "metadata": {
    "collapsed": true
   },
   "outputs": [],
   "source": [
    "avg_list = []\n",
    "\n",
    "for item in fraktion_list:\n",
    "    fraktion = df_notwith_final[df_notwith_final['Fraktion'] == item]\n",
    "    avg_abweichung = round(fraktion['Not with party'].mean(), 1)\n",
    "    \n",
    "    avg_dict = {'Fraktion': item,\n",
    "                'Abweichung': avg_abweichung}\n",
    "    \n",
    "    avg_list.append(avg_dict)\n",
    "    \n",
    "    "
   ]
  },
  {
   "cell_type": "code",
   "execution_count": 288,
   "metadata": {
    "collapsed": false
   },
   "outputs": [
    {
     "data": {
      "text/html": [
       "<div>\n",
       "<table border=\"1\" class=\"dataframe\">\n",
       "  <thead>\n",
       "    <tr style=\"text-align: right;\">\n",
       "      <th></th>\n",
       "      <th>Abweichung</th>\n",
       "      <th>Fraktion</th>\n",
       "    </tr>\n",
       "  </thead>\n",
       "  <tbody>\n",
       "    <tr>\n",
       "      <th>0</th>\n",
       "      <td>57.3</td>\n",
       "      <td>C</td>\n",
       "    </tr>\n",
       "    <tr>\n",
       "      <th>1</th>\n",
       "      <td>55.5</td>\n",
       "      <td>RL</td>\n",
       "    </tr>\n",
       "    <tr>\n",
       "      <th>3</th>\n",
       "      <td>48.4</td>\n",
       "      <td>BD</td>\n",
       "    </tr>\n",
       "    <tr>\n",
       "      <th>2</th>\n",
       "      <td>36.4</td>\n",
       "      <td>V</td>\n",
       "    </tr>\n",
       "    <tr>\n",
       "      <th>5</th>\n",
       "      <td>16.4</td>\n",
       "      <td>G</td>\n",
       "    </tr>\n",
       "    <tr>\n",
       "      <th>4</th>\n",
       "      <td>15.6</td>\n",
       "      <td>GL</td>\n",
       "    </tr>\n",
       "    <tr>\n",
       "      <th>6</th>\n",
       "      <td>12.0</td>\n",
       "      <td>S</td>\n",
       "    </tr>\n",
       "  </tbody>\n",
       "</table>\n",
       "</div>"
      ],
      "text/plain": [
       "   Abweichung Fraktion\n",
       "0        57.3        C\n",
       "1        55.5       RL\n",
       "3        48.4       BD\n",
       "2        36.4        V\n",
       "5        16.4        G\n",
       "4        15.6       GL\n",
       "6        12.0        S"
      ]
     },
     "execution_count": 288,
     "metadata": {},
     "output_type": "execute_result"
    }
   ],
   "source": [
    "pd.DataFrame(avg_list).sort_values(by='Abweichung', ascending=False)"
   ]
  },
  {
   "cell_type": "code",
   "execution_count": 297,
   "metadata": {
    "collapsed": false
   },
   "outputs": [
    {
     "data": {
      "text/plain": [
       "1131"
      ]
     },
     "execution_count": 297,
     "metadata": {},
     "output_type": "execute_result"
    }
   ],
   "source": [
    "len(list(set(list(df_50['reg']))))"
   ]
  },
  {
   "cell_type": "code",
   "execution_count": null,
   "metadata": {
    "collapsed": true
   },
   "outputs": [],
   "source": []
  }
 ],
 "metadata": {
  "kernelspec": {
   "display_name": "Python 3",
   "language": "python",
   "name": "python3"
  },
  "language_info": {
   "codemirror_mode": {
    "name": "ipython",
    "version": 3
   },
   "file_extension": ".py",
   "mimetype": "text/x-python",
   "name": "python",
   "nbconvert_exporter": "python",
   "pygments_lexer": "ipython3",
   "version": "3.5.1"
  }
 },
 "nbformat": 4,
 "nbformat_minor": 0
}
